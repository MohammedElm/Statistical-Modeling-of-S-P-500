{
 "cells": [
  {
   "cell_type": "code",
   "execution_count": 49,
   "metadata": {},
   "outputs": [
    {
     "data": {
      "text/html": [
       "        <script type=\"text/javascript\">\n",
       "        window.PlotlyConfig = {MathJaxConfig: 'local'};\n",
       "        if (window.MathJax) {MathJax.Hub.Config({SVG: {font: \"STIX-Web\"}});}\n",
       "        if (typeof require !== 'undefined') {\n",
       "        require.undef(\"plotly\");\n",
       "        requirejs.config({\n",
       "            paths: {\n",
       "                'plotly': ['https://cdn.plot.ly/plotly-latest.min']\n",
       "            }\n",
       "        });\n",
       "        require(['plotly'], function(Plotly) {\n",
       "            window._Plotly = Plotly;\n",
       "        });\n",
       "        }\n",
       "        </script>\n",
       "        "
      ]
     },
     "metadata": {},
     "output_type": "display_data"
    }
   ],
   "source": [
    "import os\n",
    "import warnings\n",
    "warnings.filterwarnings('ignore')\n",
    "import numpy as np \n",
    "import pandas as pd\n",
    "import matplotlib.pyplot as plt\n",
    "plt.style.use('fivethirtyeight') \n",
    "%matplotlib inline\n",
    "from pylab import rcParams\n",
    "from plotly import tools\n",
    "import chart_studio.plotly as py\n",
    "from plotly.offline import init_notebook_mode, iplot\n",
    "init_notebook_mode(connected=True)\n",
    "import plotly.graph_objs as go\n",
    "import plotly.figure_factory as ff\n",
    "import statsmodels.api as sm\n",
    "from numpy.random import normal, seed\n",
    "from scipy.stats import norm\n",
    "from statsmodels.tsa.arima_model import ARMA\n",
    "from statsmodels.tsa.stattools import adfuller\n",
    "from statsmodels.graphics.tsaplots import plot_acf, plot_pacf\n",
    "from statsmodels.tsa.arima_process import ArmaProcess\n",
    "from statsmodels.tsa.arima_model import ARIMA\n",
    "import math\n",
    "from sklearn.metrics import mean_squared_error\n"
   ]
  },
  {
   "cell_type": "code",
   "execution_count": 63,
   "metadata": {},
   "outputs": [
    {
     "data": {
      "text/html": [
       "<div>\n",
       "<style scoped>\n",
       "    .dataframe tbody tr th:only-of-type {\n",
       "        vertical-align: middle;\n",
       "    }\n",
       "\n",
       "    .dataframe tbody tr th {\n",
       "        vertical-align: top;\n",
       "    }\n",
       "\n",
       "    .dataframe thead th {\n",
       "        text-align: right;\n",
       "    }\n",
       "</style>\n",
       "<table border=\"1\" class=\"dataframe\">\n",
       "  <thead>\n",
       "    <tr style=\"text-align: right;\">\n",
       "      <th></th>\n",
       "      <th>High</th>\n",
       "      <th>Low</th>\n",
       "      <th>Open</th>\n",
       "      <th>Close</th>\n",
       "      <th>Volume</th>\n",
       "      <th>Adj Close</th>\n",
       "      <th>Name</th>\n",
       "    </tr>\n",
       "    <tr>\n",
       "      <th>Date</th>\n",
       "      <th></th>\n",
       "      <th></th>\n",
       "      <th></th>\n",
       "      <th></th>\n",
       "      <th></th>\n",
       "      <th></th>\n",
       "      <th></th>\n",
       "    </tr>\n",
       "  </thead>\n",
       "  <tbody>\n",
       "    <tr>\n",
       "      <th>2000-01-03</th>\n",
       "      <td>1478.000000</td>\n",
       "      <td>1438.359985</td>\n",
       "      <td>1469.250000</td>\n",
       "      <td>1455.219971</td>\n",
       "      <td>931800000</td>\n",
       "      <td>1455.219971</td>\n",
       "      <td>^GSPC</td>\n",
       "    </tr>\n",
       "    <tr>\n",
       "      <th>2000-01-04</th>\n",
       "      <td>1455.219971</td>\n",
       "      <td>1397.430054</td>\n",
       "      <td>1455.219971</td>\n",
       "      <td>1399.420044</td>\n",
       "      <td>1009000000</td>\n",
       "      <td>1399.420044</td>\n",
       "      <td>^GSPC</td>\n",
       "    </tr>\n",
       "    <tr>\n",
       "      <th>2000-01-05</th>\n",
       "      <td>1413.270020</td>\n",
       "      <td>1377.680054</td>\n",
       "      <td>1399.420044</td>\n",
       "      <td>1402.109985</td>\n",
       "      <td>1085500000</td>\n",
       "      <td>1402.109985</td>\n",
       "      <td>^GSPC</td>\n",
       "    </tr>\n",
       "    <tr>\n",
       "      <th>2000-01-06</th>\n",
       "      <td>1411.900024</td>\n",
       "      <td>1392.099976</td>\n",
       "      <td>1402.109985</td>\n",
       "      <td>1403.449951</td>\n",
       "      <td>1092300000</td>\n",
       "      <td>1403.449951</td>\n",
       "      <td>^GSPC</td>\n",
       "    </tr>\n",
       "    <tr>\n",
       "      <th>2000-01-07</th>\n",
       "      <td>1441.469971</td>\n",
       "      <td>1400.729980</td>\n",
       "      <td>1403.449951</td>\n",
       "      <td>1441.469971</td>\n",
       "      <td>1225200000</td>\n",
       "      <td>1441.469971</td>\n",
       "      <td>^GSPC</td>\n",
       "    </tr>\n",
       "  </tbody>\n",
       "</table>\n",
       "</div>"
      ],
      "text/plain": [
       "                   High          Low         Open        Close      Volume  \\\n",
       "Date                                                                         \n",
       "2000-01-03  1478.000000  1438.359985  1469.250000  1455.219971   931800000   \n",
       "2000-01-04  1455.219971  1397.430054  1455.219971  1399.420044  1009000000   \n",
       "2000-01-05  1413.270020  1377.680054  1399.420044  1402.109985  1085500000   \n",
       "2000-01-06  1411.900024  1392.099976  1402.109985  1403.449951  1092300000   \n",
       "2000-01-07  1441.469971  1400.729980  1403.449951  1441.469971  1225200000   \n",
       "\n",
       "              Adj Close   Name  \n",
       "Date                            \n",
       "2000-01-03  1455.219971  ^GSPC  \n",
       "2000-01-04  1399.420044  ^GSPC  \n",
       "2000-01-05  1402.109985  ^GSPC  \n",
       "2000-01-06  1403.449951  ^GSPC  \n",
       "2000-01-07  1441.469971  ^GSPC  "
      ]
     },
     "execution_count": 63,
     "metadata": {},
     "output_type": "execute_result"
    }
   ],
   "source": [
    "SP = pd.read_csv('SP_Data.csv', index_col='Date', parse_dates=['Date'])\n",
    "SP=SP[\"2000\":\"2019\"]\n",
    "SP.to_csv(\"Data_SP500_MAP565_2000_2019.csv\")\n",
    "SP.head()"
   ]
  },
  {
   "cell_type": "code",
   "execution_count": null,
   "metadata": {},
   "outputs": [],
   "source": []
  },
  {
   "cell_type": "code",
   "execution_count": 51,
   "metadata": {},
   "outputs": [
    {
     "data": {
      "image/png": "[encoded data removed]",
      "text/plain": [
       "<matplotlib.figure.Figure at 0x1bf4f2ee390>"
      ]
     },
     "metadata": {},
     "output_type": "display_data"
    }
   ],
   "source": [
    "SP['2000':'2019'].plot(subplots=True, figsize=(10,12))\n",
    "plt.title('S&P 500')\n",
    "plt.legend()\n",
    "plt.savefig('stocks_opeb_2000_2019.png')\n",
    "plt.show()"
   ]
  },
  {
   "cell_type": "markdown",
   "metadata": {},
   "source": [
    "Percent change:"
   ]
  },
  {
   "cell_type": "code",
   "execution_count": 52,
   "metadata": {},
   "outputs": [
    {
     "data": {
      "image/png": "[encoded data removed]",
      "text/plain": [
       "<matplotlib.figure.Figure at 0x1bf48c36630>"
      ]
     },
     "metadata": {},
     "output_type": "display_data"
    }
   ],
   "source": [
    "SP['Change'] = SP.High.div(SP.High.shift())\n",
    "SP['Change']['2015':'2019'].plot(figsize=(20,8))\n",
    "plt.show()"
   ]
  },
  {
   "cell_type": "markdown",
   "metadata": {},
   "source": [
    "Stock returns:"
   ]
  },
  {
   "cell_type": "code",
   "execution_count": 64,
   "metadata": {},
   "outputs": [
    {
     "data": {
      "image/png": "[encoded data removed]",
      "text/plain": [
       "<matplotlib.figure.Figure at 0x1bf4d880e80>"
      ]
     },
     "metadata": {},
     "output_type": "display_data"
    }
   ],
   "source": [
    "SP['logreturn'] = np.log(SP[\"Adj Close\"]/SP[\"Adj Close\"].shift(1)).dropna()\n",
    "data=SP['logreturn']['2000':'2019']\n",
    "SP['logreturn']['2000':'2019'].plot(figsize=(20,8))\n",
    "plt.savefig('logreturns.png')\n",
    "plt.show()"
   ]
  },
  {
   "cell_type": "code",
   "execution_count": 65,
   "metadata": {},
   "outputs": [],
   "source": [
    "def tsplot(y, lags=None, figsize=(10, 8), style='bmh'):\n",
    "    if not isinstance(y, pd.Series):\n",
    "        y = pd.Series(y)\n",
    "    with plt.style.context(style):    \n",
    "        fig = plt.figure(figsize=figsize)\n",
    "        #mpl.rcParams['font.family'] = 'Ubuntu Mono'\n",
    "        layout = (3, 2)\n",
    "        ts_ax = plt.subplot2grid(layout, (0, 0), colspan=2)\n",
    "        acf_ax = plt.subplot2grid(layout, (1, 0))\n",
    "        pacf_ax = plt.subplot2grid(layout, (1, 1))\n",
    "        qq_ax = plt.subplot2grid(layout, (2, 0),colspan=2)\n",
    "        #pp_ax = plt.subplot2grid(layout, (2, 1))\n",
    "        \n",
    "        y.plot(ax=ts_ax)\n",
    "        ts_ax.set_title('Time Series Analysis Plots')\n",
    "        smt.graphics.plot_acf(y, lags=lags, ax=acf_ax, alpha=0.05)\n",
    "        smt.graphics.plot_pacf(y, lags=lags, ax=pacf_ax, alpha=0.05)\n",
    "        sm.qqplot(y, line='s', ax=qq_ax)\n",
    "        qq_ax.set_title('QQ Plot')        \n",
    "        #scs.probplot(y, sparams=(y.mean(), y.std()), plot=pp_ax)\n",
    "\n",
    "        plt.tight_layout()\n",
    "    return"
   ]
  },
  {
   "cell_type": "code",
   "execution_count": 68,
   "metadata": {},
   "outputs": [
    {
     "data": {
      "image/png": "[encoded data removed]",
      "text/plain": [
       "<matplotlib.figure.Figure at 0x1bf4d8e2898>"
      ]
     },
     "metadata": {},
     "output_type": "display_data"
    }
   ],
   "source": [
    "_ = tsplot(SP.logreturn, lags=30)\n",
    "plt.savefig('acf_pacf_log.png')\n"
   ]
  },
  {
   "cell_type": "markdown",
   "metadata": {},
   "source": [
    "Change in successful days:"
   ]
  },
  {
   "cell_type": "code",
   "execution_count": 10,
   "metadata": {},
   "outputs": [
    {
     "data": {
      "image/png": "[encoded data removed]",
      "text/plain": [
       "<matplotlib.figure.Figure at 0x2746d1006a0>"
      ]
     },
     "metadata": {},
     "output_type": "display_data"
    }
   ],
   "source": [
    "SP.High.diff()['2010':'2019'].plot(figsize=(20,6))\n",
    "plt.show()"
   ]
  },
  {
   "cell_type": "markdown",
   "metadata": {},
   "source": [
    "Rolling by mean:"
   ]
  },
  {
   "cell_type": "code",
   "execution_count": 60,
   "metadata": {},
   "outputs": [
    {
     "data": {
      "text/plain": [
       "Date\n",
       "1975-01-02      70.919998\n",
       "1975-01-03      71.279999\n",
       "1975-01-06      71.599998\n",
       "1975-01-07      71.637499\n",
       "1975-01-08      71.615999\n",
       "                 ...     \n",
       "2019-12-18    3173.542511\n",
       "2019-12-19    3180.618744\n",
       "2019-12-20    3191.059967\n",
       "2019-12-23    3208.886637\n",
       "2019-12-24    3211.392822\n",
       "Name: High, Length: 11346, dtype: float64"
      ]
     },
     "execution_count": 60,
     "metadata": {},
     "output_type": "execute_result"
    }
   ],
   "source": [
    "rolling_SP"
   ]
  },
  {
   "cell_type": "code",
   "execution_count": 33,
   "metadata": {},
   "outputs": [
    {
     "data": {
      "image/png": "[encoded data removed]",
      "text/plain": [
       "<matplotlib.figure.Figure at 0x1c7f56ec8d0>"
      ]
     },
     "metadata": {},
     "output_type": "display_data"
    }
   ],
   "source": [
    "# Rolling window functions\n",
    "\n",
    "plt.figure(1)\n",
    "rolling_SP1 = SP['logreturn']['2000':'2019'].rolling('150D').std()\n",
    "rolling_SP1.plot()\n",
    "plt.legend(['Rolling Std'])\n",
    "plt.savefig('rolling_std.png')\n",
    "\n",
    "plt.show()"
   ]
  },
  {
   "cell_type": "markdown",
   "metadata": {},
   "source": [
    "Expanding Functions:"
   ]
  },
  {
   "cell_type": "code",
   "execution_count": 55,
   "metadata": {},
   "outputs": [
    {
     "data": {
      "image/png": "[encoded data removed]",
      "text/plain": [
       "<matplotlib.figure.Figure at 0x1a2a3ea4978>"
      ]
     },
     "metadata": {},
     "output_type": "display_data"
    }
   ],
   "source": [
    "SP_mean = SP.High.expanding().mean()\n",
    "SP_std = SP.High.expanding().std()\n",
    "SP.High.plot()\n",
    "SP_mean.plot()\n",
    "SP_std.plot()\n",
    "plt.legend(['High','Expanding Mean','Expanding Standard Deviation'])\n",
    "plt.show()"
   ]
  },
  {
   "cell_type": "code",
   "execution_count": 50,
   "metadata": {},
   "outputs": [
    {
     "data": {
      "text/plain": [
       "Date\n",
       "1975-01-02         NaN\n",
       "1975-01-03    0.509118\n",
       "1975-01-06    0.660908\n",
       "1975-01-07    0.544816\n",
       "1975-01-08    0.474268\n",
       "Name: High, dtype: float64"
      ]
     },
     "execution_count": 50,
     "metadata": {},
     "output_type": "execute_result"
    }
   ],
   "source": [
    "SP.High.expanding().std().head()"
   ]
  },
  {
   "cell_type": "code",
   "execution_count": 51,
   "metadata": {},
   "outputs": [
    {
     "data": {
      "text/plain": [
       "Date\n",
       "1975-01-02    70.919998\n",
       "1975-01-03    71.279999\n",
       "1975-01-06    71.599998\n",
       "1975-01-07    71.637499\n",
       "1975-01-08    71.615999\n",
       "Name: High, dtype: float64"
      ]
     },
     "execution_count": 51,
     "metadata": {},
     "output_type": "execute_result"
    }
   ],
   "source": [
    "SP.High.expanding().mean().head()"
   ]
  },
  {
   "cell_type": "markdown",
   "metadata": {},
   "source": [
    "OHLC Chart:"
   ]
  },
  {
   "cell_type": "code",
   "execution_count": 57,
   "metadata": {},
   "outputs": [
    {
     "data": {
      "application/vnd.plotly.v1+json": {
       "config": {
        "linkText": "Export to plot.ly",
        "plotlyServerURL": "https://plot.ly",
        "showLink": false
       },
       "data": [
        {
         "close": [
          3113.8701171875,
          3093.199951171875,
          3112.760009765625,
          3117.429931640625,
          3145.909912109375,
          3135.9599609375,
          3132.52001953125,
          3141.6298828125,
          3168.570068359375,
          3168.800048828125,
          3191.449951171875,
          3192.52001953125,
          3191.139892578125,
          3205.3701171875,
          3221.219970703125,
          3224.010009765625,
          3223.3798828125
         ],
         "high": [
          3144.31005859375,
          3094.969970703125,
          3119.3798828125,
          3119.449951171875,
          3150.60009765625,
          3148.8701171875,
          3142.1201171875,
          3143.97998046875,
          3176.280029296875,
          3182.679931640625,
          3197.7099609375,
          3198.219970703125,
          3198.47998046875,
          3205.47998046875,
          3225.64990234375,
          3227.780029296875,
          3226.429931640625
         ],
         "low": [
          3110.780029296875,
          3070.330078125,
          3102.530029296875,
          3103.760009765625,
          3134.6201171875,
          3135.4599609375,
          3126.090087890625,
          3133.2099609375,
          3138.469970703125,
          3156.510009765625,
          3183.6298828125,
          3191.030029296875,
          3191.139892578125,
          3192.320068359375,
          3216.030029296875,
          3222.300048828125,
          3220.510009765625
         ],
         "open": [
          3143.85009765625,
          3087.409912109375,
          3103.5,
          3119.2099609375,
          3134.6201171875,
          3141.860107421875,
          3135.360107421875,
          3135.75,
          3141.22998046875,
          3166.64990234375,
          3183.6298828125,
          3195.39990234375,
          3195.2099609375,
          3192.320068359375,
          3223.330078125,
          3226.050048828125,
          3225.449951171875
         ],
         "type": "ohlc",
         "x": [
          "2019-12-02T00:00:00",
          "2019-12-03T00:00:00",
          "2019-12-04T00:00:00",
          "2019-12-05T00:00:00",
          "2019-12-06T00:00:00",
          "2019-12-09T00:00:00",
          "2019-12-10T00:00:00",
          "2019-12-11T00:00:00",
          "2019-12-12T00:00:00",
          "2019-12-13T00:00:00",
          "2019-12-16T00:00:00",
          "2019-12-17T00:00:00",
          "2019-12-18T00:00:00",
          "2019-12-19T00:00:00",
          "2019-12-20T00:00:00",
          "2019-12-23T00:00:00",
          "2019-12-24T00:00:00"
         ]
        }
       ],
       "layout": {
        "template": {
         "data": {
          "bar": [
           {
            "error_x": {
             "color": "#2a3f5f"
            },
            "error_y": {
             "color": "#2a3f5f"
            },
            "marker": {
             "line": {
              "color": "#E5ECF6",
              "width": 0.5
             }
            },
            "type": "bar"
           }
          ],
          "barpolar": [
           {
            "marker": {
             "line": {
              "color": "#E5ECF6",
              "width": 0.5
             }
            },
            "type": "barpolar"
           }
          ],
          "carpet": [
           {
            "aaxis": {
             "endlinecolor": "#2a3f5f",
             "gridcolor": "white",
             "linecolor": "white",
             "minorgridcolor": "white",
             "startlinecolor": "#2a3f5f"
            },
            "baxis": {
             "endlinecolor": "#2a3f5f",
             "gridcolor": "white",
             "linecolor": "white",
             "minorgridcolor": "white",
             "startlinecolor": "#2a3f5f"
            },
            "type": "carpet"
           }
          ],
          "choropleth": [
           {
            "colorbar": {
             "outlinewidth": 0,
             "ticks": ""
            },
            "type": "choropleth"
           }
          ],
          "contour": [
           {
            "colorbar": {
             "outlinewidth": 0,
             "ticks": ""
            },
            "colorscale": [
             [
              0,
              "#0d0887"
             ],
             [
              0.1111111111111111,
              "#46039f"
             ],
             [
              0.2222222222222222,
              "#7201a8"
             ],
             [
              0.3333333333333333,
              "#9c179e"
             ],
             [
              0.4444444444444444,
              "#bd3786"
             ],
             [
              0.5555555555555556,
              "#d8576b"
             ],
             [
              0.6666666666666666,
              "#ed7953"
             ],
             [
              0.7777777777777778,
              "#fb9f3a"
             ],
             [
              0.8888888888888888,
              "#fdca26"
             ],
             [
              1,
              "#f0f921"
             ]
            ],
            "type": "contour"
           }
          ],
          "contourcarpet": [
           {
            "colorbar": {
             "outlinewidth": 0,
             "ticks": ""
            },
            "type": "contourcarpet"
           }
          ],
          "heatmap": [
           {
            "colorbar": {
             "outlinewidth": 0,
             "ticks": ""
            },
            "colorscale": [
             [
              0,
              "#0d0887"
             ],
             [
              0.1111111111111111,
              "#46039f"
             ],
             [
              0.2222222222222222,
              "#7201a8"
             ],
             [
              0.3333333333333333,
              "#9c179e"
             ],
             [
              0.4444444444444444,
              "#bd3786"
             ],
             [
              0.5555555555555556,
              "#d8576b"
             ],
             [
              0.6666666666666666,
              "#ed7953"
             ],
             [
              0.7777777777777778,
              "#fb9f3a"
             ],
             [
              0.8888888888888888,
              "#fdca26"
             ],
             [
              1,
              "#f0f921"
             ]
            ],
            "type": "heatmap"
           }
          ],
          "heatmapgl": [
           {
            "colorbar": {
             "outlinewidth": 0,
             "ticks": ""
            },
            "colorscale": [
             [
              0,
              "#0d0887"
             ],
             [
              0.1111111111111111,
              "#46039f"
             ],
             [
              0.2222222222222222,
              "#7201a8"
             ],
             [
              0.3333333333333333,
              "#9c179e"
             ],
             [
              0.4444444444444444,
              "#bd3786"
             ],
             [
              0.5555555555555556,
              "#d8576b"
             ],
             [
              0.6666666666666666,
              "#ed7953"
             ],
             [
              0.7777777777777778,
              "#fb9f3a"
             ],
             [
              0.8888888888888888,
              "#fdca26"
             ],
             [
              1,
              "#f0f921"
             ]
            ],
            "type": "heatmapgl"
           }
          ],
          "histogram": [
           {
            "marker": {
             "colorbar": {
              "outlinewidth": 0,
              "ticks": ""
             }
            },
            "type": "histogram"
           }
          ],
          "histogram2d": [
           {
            "colorbar": {
             "outlinewidth": 0,
             "ticks": ""
            },
            "colorscale": [
             [
              0,
              "#0d0887"
             ],
             [
              0.1111111111111111,
              "#46039f"
             ],
             [
              0.2222222222222222,
              "#7201a8"
             ],
             [
              0.3333333333333333,
              "#9c179e"
             ],
             [
              0.4444444444444444,
              "#bd3786"
             ],
             [
              0.5555555555555556,
              "#d8576b"
             ],
             [
              0.6666666666666666,
              "#ed7953"
             ],
             [
              0.7777777777777778,
              "#fb9f3a"
             ],
             [
              0.8888888888888888,
              "#fdca26"
             ],
             [
              1,
              "#f0f921"
             ]
            ],
            "type": "histogram2d"
           }
          ],
          "histogram2dcontour": [
           {
            "colorbar": {
             "outlinewidth": 0,
             "ticks": ""
            },
            "colorscale": [
             [
              0,
              "#0d0887"
             ],
             [
              0.1111111111111111,
              "#46039f"
             ],
             [
              0.2222222222222222,
              "#7201a8"
             ],
             [
              0.3333333333333333,
              "#9c179e"
             ],
             [
              0.4444444444444444,
              "#bd3786"
             ],
             [
              0.5555555555555556,
              "#d8576b"
             ],
             [
              0.6666666666666666,
              "#ed7953"
             ],
             [
              0.7777777777777778,
              "#fb9f3a"
             ],
             [
              0.8888888888888888,
              "#fdca26"
             ],
             [
              1,
              "#f0f921"
             ]
            ],
            "type": "histogram2dcontour"
           }
          ],
          "mesh3d": [
           {
            "colorbar": {
             "outlinewidth": 0,
             "ticks": ""
            },
            "type": "mesh3d"
           }
          ],
          "parcoords": [
           {
            "line": {
             "colorbar": {
              "outlinewidth": 0,
              "ticks": ""
             }
            },
            "type": "parcoords"
           }
          ],
          "pie": [
           {
            "automargin": true,
            "type": "pie"
           }
          ],
          "scatter": [
           {
            "marker": {
             "colorbar": {
              "outlinewidth": 0,
              "ticks": ""
             }
            },
            "type": "scatter"
           }
          ],
          "scatter3d": [
           {
            "line": {
             "colorbar": {
              "outlinewidth": 0,
              "ticks": ""
             }
            },
            "marker": {
             "colorbar": {
              "outlinewidth": 0,
              "ticks": ""
             }
            },
            "type": "scatter3d"
           }
          ],
          "scattercarpet": [
           {
            "marker": {
             "colorbar": {
              "outlinewidth": 0,
              "ticks": ""
             }
            },
            "type": "scattercarpet"
           }
          ],
          "scattergeo": [
           {
            "marker": {
             "colorbar": {
              "outlinewidth": 0,
              "ticks": ""
             }
            },
            "type": "scattergeo"
           }
          ],
          "scattergl": [
           {
            "marker": {
             "colorbar": {
              "outlinewidth": 0,
              "ticks": ""
             }
            },
            "type": "scattergl"
           }
          ],
          "scattermapbox": [
           {
            "marker": {
             "colorbar": {
              "outlinewidth": 0,
              "ticks": ""
             }
            },
            "type": "scattermapbox"
           }
          ],
          "scatterpolar": [
           {
            "marker": {
             "colorbar": {
              "outlinewidth": 0,
              "ticks": ""
             }
            },
            "type": "scatterpolar"
           }
          ],
          "scatterpolargl": [
           {
            "marker": {
             "colorbar": {
              "outlinewidth": 0,
              "ticks": ""
             }
            },
            "type": "scatterpolargl"
           }
          ],
          "scatterternary": [
           {
            "marker": {
             "colorbar": {
              "outlinewidth": 0,
              "ticks": ""
             }
            },
            "type": "scatterternary"
           }
          ],
          "surface": [
           {
            "colorbar": {
             "outlinewidth": 0,
             "ticks": ""
            },
            "colorscale": [
             [
              0,
              "#0d0887"
             ],
             [
              0.1111111111111111,
              "#46039f"
             ],
             [
              0.2222222222222222,
              "#7201a8"
             ],
             [
              0.3333333333333333,
              "#9c179e"
             ],
             [
              0.4444444444444444,
              "#bd3786"
             ],
             [
              0.5555555555555556,
              "#d8576b"
             ],
             [
              0.6666666666666666,
              "#ed7953"
             ],
             [
              0.7777777777777778,
              "#fb9f3a"
             ],
             [
              0.8888888888888888,
              "#fdca26"
             ],
             [
              1,
              "#f0f921"
             ]
            ],
            "type": "surface"
           }
          ],
          "table": [
           {
            "cells": {
             "fill": {
              "color": "#EBF0F8"
             },
             "line": {
              "color": "white"
             }
            },
            "header": {
             "fill": {
              "color": "#C8D4E3"
             },
             "line": {
              "color": "white"
             }
            },
            "type": "table"
           }
          ]
         },
         "layout": {
          "annotationdefaults": {
           "arrowcolor": "#2a3f5f",
           "arrowhead": 0,
           "arrowwidth": 1
          },
          "coloraxis": {
           "colorbar": {
            "outlinewidth": 0,
            "ticks": ""
           }
          },
          "colorscale": {
           "diverging": [
            [
             0,
             "#8e0152"
            ],
            [
             0.1,
             "#c51b7d"
            ],
            [
             0.2,
             "#de77ae"
            ],
            [
             0.3,
             "#f1b6da"
            ],
            [
             0.4,
             "#fde0ef"
            ],
            [
             0.5,
             "#f7f7f7"
            ],
            [
             0.6,
             "#e6f5d0"
            ],
            [
             0.7,
             "#b8e186"
            ],
            [
             0.8,
             "#7fbc41"
            ],
            [
             0.9,
             "#4d9221"
            ],
            [
             1,
             "#276419"
            ]
           ],
           "sequential": [
            [
             0,
             "#0d0887"
            ],
            [
             0.1111111111111111,
             "#46039f"
            ],
            [
             0.2222222222222222,
             "#7201a8"
            ],
            [
             0.3333333333333333,
             "#9c179e"
            ],
            [
             0.4444444444444444,
             "#bd3786"
            ],
            [
             0.5555555555555556,
             "#d8576b"
            ],
            [
             0.6666666666666666,
             "#ed7953"
            ],
            [
             0.7777777777777778,
             "#fb9f3a"
            ],
            [
             0.8888888888888888,
             "#fdca26"
            ],
            [
             1,
             "#f0f921"
            ]
           ],
           "sequentialminus": [
            [
             0,
             "#0d0887"
            ],
            [
             0.1111111111111111,
             "#46039f"
            ],
            [
             0.2222222222222222,
             "#7201a8"
            ],
            [
             0.3333333333333333,
             "#9c179e"
            ],
            [
             0.4444444444444444,
             "#bd3786"
            ],
            [
             0.5555555555555556,
             "#d8576b"
            ],
            [
             0.6666666666666666,
             "#ed7953"
            ],
            [
             0.7777777777777778,
             "#fb9f3a"
            ],
            [
             0.8888888888888888,
             "#fdca26"
            ],
            [
             1,
             "#f0f921"
            ]
           ]
          },
          "colorway": [
           "#636efa",
           "#EF553B",
           "#00cc96",
           "#ab63fa",
           "#FFA15A",
           "#19d3f3",
           "#FF6692",
           "#B6E880",
           "#FF97FF",
           "#FECB52"
          ],
          "font": {
           "color": "#2a3f5f"
          },
          "geo": {
           "bgcolor": "white",
           "lakecolor": "white",
           "landcolor": "#E5ECF6",
           "showlakes": true,
           "showland": true,
           "subunitcolor": "white"
          },
          "hoverlabel": {
           "align": "left"
          },
          "hovermode": "closest",
          "mapbox": {
           "style": "light"
          },
          "paper_bgcolor": "white",
          "plot_bgcolor": "#E5ECF6",
          "polar": {
           "angularaxis": {
            "gridcolor": "white",
            "linecolor": "white",
            "ticks": ""
           },
           "bgcolor": "#E5ECF6",
           "radialaxis": {
            "gridcolor": "white",
            "linecolor": "white",
            "ticks": ""
           }
          },
          "scene": {
           "xaxis": {
            "backgroundcolor": "#E5ECF6",
            "gridcolor": "white",
            "gridwidth": 2,
            "linecolor": "white",
            "showbackground": true,
            "ticks": "",
            "zerolinecolor": "white"
           },
           "yaxis": {
            "backgroundcolor": "#E5ECF6",
            "gridcolor": "white",
            "gridwidth": 2,
            "linecolor": "white",
            "showbackground": true,
            "ticks": "",
            "zerolinecolor": "white"
           },
           "zaxis": {
            "backgroundcolor": "#E5ECF6",
            "gridcolor": "white",
            "gridwidth": 2,
            "linecolor": "white",
            "showbackground": true,
            "ticks": "",
            "zerolinecolor": "white"
           }
          },
          "shapedefaults": {
           "line": {
            "color": "#2a3f5f"
           }
          },
          "ternary": {
           "aaxis": {
            "gridcolor": "white",
            "linecolor": "white",
            "ticks": ""
           },
           "baxis": {
            "gridcolor": "white",
            "linecolor": "white",
            "ticks": ""
           },
           "bgcolor": "#E5ECF6",
           "caxis": {
            "gridcolor": "white",
            "linecolor": "white",
            "ticks": ""
           }
          },
          "title": {
           "x": 0.05
          },
          "xaxis": {
           "automargin": true,
           "gridcolor": "white",
           "linecolor": "white",
           "ticks": "",
           "title": {
            "standoff": 15
           },
           "zerolinecolor": "white",
           "zerolinewidth": 2
          },
          "yaxis": {
           "automargin": true,
           "gridcolor": "white",
           "linecolor": "white",
           "ticks": "",
           "title": {
            "standoff": 15
           },
           "zerolinecolor": "white",
           "zerolinewidth": 2
          }
         }
        }
       }
      },
      "text/html": [
       "<div>\n",
       "        \n",
       "        \n",
       "            <div id=\"13caff76-227e-48a7-bc43-ba78d97f6715\" class=\"plotly-graph-div\" style=\"height:525px; width:100%;\"></div>\n",
       "            <script type=\"text/javascript\">\n",
       "                require([\"plotly\"], function(Plotly) {\n",
       "                    window.PLOTLYENV=window.PLOTLYENV || {};\n",
       "                    \n",
       "                if (document.getElementById(\"13caff76-227e-48a7-bc43-ba78d97f6715\")) {\n",
       "                    Plotly.newPlot(\n",
       "                        '13caff76-227e-48a7-bc43-ba78d97f6715',\n",
       "                        [{\"close\": [3113.8701171875, 3093.199951171875, 3112.760009765625, 3117.429931640625, 3145.909912109375, 3135.9599609375, 3132.52001953125, 3141.6298828125, 3168.570068359375, 3168.800048828125, 3191.449951171875, 3192.52001953125, 3191.139892578125, 3205.3701171875, 3221.219970703125, 3224.010009765625, 3223.3798828125], \"high\": [3144.31005859375, 3094.969970703125, 3119.3798828125, 3119.449951171875, 3150.60009765625, 3148.8701171875, 3142.1201171875, 3143.97998046875, 3176.280029296875, 3182.679931640625, 3197.7099609375, 3198.219970703125, 3198.47998046875, 3205.47998046875, 3225.64990234375, 3227.780029296875, 3226.429931640625], \"low\": [3110.780029296875, 3070.330078125, 3102.530029296875, 3103.760009765625, 3134.6201171875, 3135.4599609375, 3126.090087890625, 3133.2099609375, 3138.469970703125, 3156.510009765625, 3183.6298828125, 3191.030029296875, 3191.139892578125, 3192.320068359375, 3216.030029296875, 3222.300048828125, 3220.510009765625], \"open\": [3143.85009765625, 3087.409912109375, 3103.5, 3119.2099609375, 3134.6201171875, 3141.860107421875, 3135.360107421875, 3135.75, 3141.22998046875, 3166.64990234375, 3183.6298828125, 3195.39990234375, 3195.2099609375, 3192.320068359375, 3223.330078125, 3226.050048828125, 3225.449951171875], \"type\": \"ohlc\", \"x\": [\"2019-12-02T00:00:00\", \"2019-12-03T00:00:00\", \"2019-12-04T00:00:00\", \"2019-12-05T00:00:00\", \"2019-12-06T00:00:00\", \"2019-12-09T00:00:00\", \"2019-12-10T00:00:00\", \"2019-12-11T00:00:00\", \"2019-12-12T00:00:00\", \"2019-12-13T00:00:00\", \"2019-12-16T00:00:00\", \"2019-12-17T00:00:00\", \"2019-12-18T00:00:00\", \"2019-12-19T00:00:00\", \"2019-12-20T00:00:00\", \"2019-12-23T00:00:00\", \"2019-12-24T00:00:00\"]}],\n",
       "                        {\"template\": {\"data\": {\"bar\": [{\"error_x\": {\"color\": \"#2a3f5f\"}, \"error_y\": {\"color\": \"#2a3f5f\"}, \"marker\": {\"line\": {\"color\": \"#E5ECF6\", \"width\": 0.5}}, \"type\": \"bar\"}], \"barpolar\": [{\"marker\": {\"line\": {\"color\": \"#E5ECF6\", \"width\": 0.5}}, \"type\": \"barpolar\"}], \"carpet\": [{\"aaxis\": {\"endlinecolor\": \"#2a3f5f\", \"gridcolor\": \"white\", \"linecolor\": \"white\", \"minorgridcolor\": \"white\", \"startlinecolor\": \"#2a3f5f\"}, \"baxis\": {\"endlinecolor\": \"#2a3f5f\", \"gridcolor\": \"white\", \"linecolor\": \"white\", \"minorgridcolor\": \"white\", \"startlinecolor\": \"#2a3f5f\"}, \"type\": \"carpet\"}], \"choropleth\": [{\"colorbar\": {\"outlinewidth\": 0, \"ticks\": \"\"}, \"type\": \"choropleth\"}], \"contour\": [{\"colorbar\": {\"outlinewidth\": 0, \"ticks\": \"\"}, \"colorscale\": [[0.0, \"#0d0887\"], [0.1111111111111111, \"#46039f\"], [0.2222222222222222, \"#7201a8\"], [0.3333333333333333, \"#9c179e\"], [0.4444444444444444, \"#bd3786\"], [0.5555555555555556, \"#d8576b\"], [0.6666666666666666, \"#ed7953\"], [0.7777777777777778, \"#fb9f3a\"], [0.8888888888888888, \"#fdca26\"], [1.0, \"#f0f921\"]], \"type\": \"contour\"}], \"contourcarpet\": [{\"colorbar\": {\"outlinewidth\": 0, \"ticks\": \"\"}, \"type\": \"contourcarpet\"}], \"heatmap\": [{\"colorbar\": {\"outlinewidth\": 0, \"ticks\": \"\"}, \"colorscale\": [[0.0, \"#0d0887\"], [0.1111111111111111, \"#46039f\"], [0.2222222222222222, \"#7201a8\"], [0.3333333333333333, \"#9c179e\"], [0.4444444444444444, \"#bd3786\"], [0.5555555555555556, \"#d8576b\"], [0.6666666666666666, \"#ed7953\"], [0.7777777777777778, \"#fb9f3a\"], [0.8888888888888888, \"#fdca26\"], [1.0, \"#f0f921\"]], \"type\": \"heatmap\"}], \"heatmapgl\": [{\"colorbar\": {\"outlinewidth\": 0, \"ticks\": \"\"}, \"colorscale\": [[0.0, \"#0d0887\"], [0.1111111111111111, \"#46039f\"], [0.2222222222222222, \"#7201a8\"], [0.3333333333333333, \"#9c179e\"], [0.4444444444444444, \"#bd3786\"], [0.5555555555555556, \"#d8576b\"], [0.6666666666666666, \"#ed7953\"], [0.7777777777777778, \"#fb9f3a\"], [0.8888888888888888, \"#fdca26\"], [1.0, \"#f0f921\"]], \"type\": \"heatmapgl\"}], \"histogram\": [{\"marker\": {\"colorbar\": {\"outlinewidth\": 0, \"ticks\": \"\"}}, \"type\": \"histogram\"}], \"histogram2d\": [{\"colorbar\": {\"outlinewidth\": 0, \"ticks\": \"\"}, \"colorscale\": [[0.0, \"#0d0887\"], [0.1111111111111111, \"#46039f\"], [0.2222222222222222, \"#7201a8\"], [0.3333333333333333, \"#9c179e\"], [0.4444444444444444, \"#bd3786\"], [0.5555555555555556, \"#d8576b\"], [0.6666666666666666, \"#ed7953\"], [0.7777777777777778, \"#fb9f3a\"], [0.8888888888888888, \"#fdca26\"], [1.0, \"#f0f921\"]], \"type\": \"histogram2d\"}], \"histogram2dcontour\": [{\"colorbar\": {\"outlinewidth\": 0, \"ticks\": \"\"}, \"colorscale\": [[0.0, \"#0d0887\"], [0.1111111111111111, \"#46039f\"], [0.2222222222222222, \"#7201a8\"], [0.3333333333333333, \"#9c179e\"], [0.4444444444444444, \"#bd3786\"], [0.5555555555555556, \"#d8576b\"], [0.6666666666666666, \"#ed7953\"], [0.7777777777777778, \"#fb9f3a\"], [0.8888888888888888, \"#fdca26\"], [1.0, \"#f0f921\"]], \"type\": \"histogram2dcontour\"}], \"mesh3d\": [{\"colorbar\": {\"outlinewidth\": 0, \"ticks\": \"\"}, \"type\": \"mesh3d\"}], \"parcoords\": [{\"line\": {\"colorbar\": {\"outlinewidth\": 0, \"ticks\": \"\"}}, \"type\": \"parcoords\"}], \"pie\": [{\"automargin\": true, \"type\": \"pie\"}], \"scatter\": [{\"marker\": {\"colorbar\": {\"outlinewidth\": 0, \"ticks\": \"\"}}, \"type\": \"scatter\"}], \"scatter3d\": [{\"line\": {\"colorbar\": {\"outlinewidth\": 0, \"ticks\": \"\"}}, \"marker\": {\"colorbar\": {\"outlinewidth\": 0, \"ticks\": \"\"}}, \"type\": \"scatter3d\"}], \"scattercarpet\": [{\"marker\": {\"colorbar\": {\"outlinewidth\": 0, \"ticks\": \"\"}}, \"type\": \"scattercarpet\"}], \"scattergeo\": [{\"marker\": {\"colorbar\": {\"outlinewidth\": 0, \"ticks\": \"\"}}, \"type\": \"scattergeo\"}], \"scattergl\": [{\"marker\": {\"colorbar\": {\"outlinewidth\": 0, \"ticks\": \"\"}}, \"type\": \"scattergl\"}], \"scattermapbox\": [{\"marker\": {\"colorbar\": {\"outlinewidth\": 0, \"ticks\": \"\"}}, \"type\": \"scattermapbox\"}], \"scatterpolar\": [{\"marker\": {\"colorbar\": {\"outlinewidth\": 0, \"ticks\": \"\"}}, \"type\": \"scatterpolar\"}], \"scatterpolargl\": [{\"marker\": {\"colorbar\": {\"outlinewidth\": 0, \"ticks\": \"\"}}, \"type\": \"scatterpolargl\"}], \"scatterternary\": [{\"marker\": {\"colorbar\": {\"outlinewidth\": 0, \"ticks\": \"\"}}, \"type\": \"scatterternary\"}], \"surface\": [{\"colorbar\": {\"outlinewidth\": 0, \"ticks\": \"\"}, \"colorscale\": [[0.0, \"#0d0887\"], [0.1111111111111111, \"#46039f\"], [0.2222222222222222, \"#7201a8\"], [0.3333333333333333, \"#9c179e\"], [0.4444444444444444, \"#bd3786\"], [0.5555555555555556, \"#d8576b\"], [0.6666666666666666, \"#ed7953\"], [0.7777777777777778, \"#fb9f3a\"], [0.8888888888888888, \"#fdca26\"], [1.0, \"#f0f921\"]], \"type\": \"surface\"}], \"table\": [{\"cells\": {\"fill\": {\"color\": \"#EBF0F8\"}, \"line\": {\"color\": \"white\"}}, \"header\": {\"fill\": {\"color\": \"#C8D4E3\"}, \"line\": {\"color\": \"white\"}}, \"type\": \"table\"}]}, \"layout\": {\"annotationdefaults\": {\"arrowcolor\": \"#2a3f5f\", \"arrowhead\": 0, \"arrowwidth\": 1}, \"coloraxis\": {\"colorbar\": {\"outlinewidth\": 0, \"ticks\": \"\"}}, \"colorscale\": {\"diverging\": [[0, \"#8e0152\"], [0.1, \"#c51b7d\"], [0.2, \"#de77ae\"], [0.3, \"#f1b6da\"], [0.4, \"#fde0ef\"], [0.5, \"#f7f7f7\"], [0.6, \"#e6f5d0\"], [0.7, \"#b8e186\"], [0.8, \"#7fbc41\"], [0.9, \"#4d9221\"], [1, \"#276419\"]], \"sequential\": [[0.0, \"#0d0887\"], [0.1111111111111111, \"#46039f\"], [0.2222222222222222, \"#7201a8\"], [0.3333333333333333, \"#9c179e\"], [0.4444444444444444, \"#bd3786\"], [0.5555555555555556, \"#d8576b\"], [0.6666666666666666, \"#ed7953\"], [0.7777777777777778, \"#fb9f3a\"], [0.8888888888888888, \"#fdca26\"], [1.0, \"#f0f921\"]], \"sequentialminus\": [[0.0, \"#0d0887\"], [0.1111111111111111, \"#46039f\"], [0.2222222222222222, \"#7201a8\"], [0.3333333333333333, \"#9c179e\"], [0.4444444444444444, \"#bd3786\"], [0.5555555555555556, \"#d8576b\"], [0.6666666666666666, \"#ed7953\"], [0.7777777777777778, \"#fb9f3a\"], [0.8888888888888888, \"#fdca26\"], [1.0, \"#f0f921\"]]}, \"colorway\": [\"#636efa\", \"#EF553B\", \"#00cc96\", \"#ab63fa\", \"#FFA15A\", \"#19d3f3\", \"#FF6692\", \"#B6E880\", \"#FF97FF\", \"#FECB52\"], \"font\": {\"color\": \"#2a3f5f\"}, \"geo\": {\"bgcolor\": \"white\", \"lakecolor\": \"white\", \"landcolor\": \"#E5ECF6\", \"showlakes\": true, \"showland\": true, \"subunitcolor\": \"white\"}, \"hoverlabel\": {\"align\": \"left\"}, \"hovermode\": \"closest\", \"mapbox\": {\"style\": \"light\"}, \"paper_bgcolor\": \"white\", \"plot_bgcolor\": \"#E5ECF6\", \"polar\": {\"angularaxis\": {\"gridcolor\": \"white\", \"linecolor\": \"white\", \"ticks\": \"\"}, \"bgcolor\": \"#E5ECF6\", \"radialaxis\": {\"gridcolor\": \"white\", \"linecolor\": \"white\", \"ticks\": \"\"}}, \"scene\": {\"xaxis\": {\"backgroundcolor\": \"#E5ECF6\", \"gridcolor\": \"white\", \"gridwidth\": 2, \"linecolor\": \"white\", \"showbackground\": true, \"ticks\": \"\", \"zerolinecolor\": \"white\"}, \"yaxis\": {\"backgroundcolor\": \"#E5ECF6\", \"gridcolor\": \"white\", \"gridwidth\": 2, \"linecolor\": \"white\", \"showbackground\": true, \"ticks\": \"\", \"zerolinecolor\": \"white\"}, \"zaxis\": {\"backgroundcolor\": \"#E5ECF6\", \"gridcolor\": \"white\", \"gridwidth\": 2, \"linecolor\": \"white\", \"showbackground\": true, \"ticks\": \"\", \"zerolinecolor\": \"white\"}}, \"shapedefaults\": {\"line\": {\"color\": \"#2a3f5f\"}}, \"ternary\": {\"aaxis\": {\"gridcolor\": \"white\", \"linecolor\": \"white\", \"ticks\": \"\"}, \"baxis\": {\"gridcolor\": \"white\", \"linecolor\": \"white\", \"ticks\": \"\"}, \"bgcolor\": \"#E5ECF6\", \"caxis\": {\"gridcolor\": \"white\", \"linecolor\": \"white\", \"ticks\": \"\"}}, \"title\": {\"x\": 0.05}, \"xaxis\": {\"automargin\": true, \"gridcolor\": \"white\", \"linecolor\": \"white\", \"ticks\": \"\", \"title\": {\"standoff\": 15}, \"zerolinecolor\": \"white\", \"zerolinewidth\": 2}, \"yaxis\": {\"automargin\": true, \"gridcolor\": \"white\", \"linecolor\": \"white\", \"ticks\": \"\", \"title\": {\"standoff\": 15}, \"zerolinecolor\": \"white\", \"zerolinewidth\": 2}}}},\n",
       "                        {\"responsive\": true}\n",
       "                    ).then(function(){\n",
       "                            \n",
       "var gd = document.getElementById('13caff76-227e-48a7-bc43-ba78d97f6715');\n",
       "var x = new MutationObserver(function (mutations, observer) {{\n",
       "        var display = window.getComputedStyle(gd).display;\n",
       "        if (!display || display === 'none') {{\n",
       "            console.log([gd, 'removed!']);\n",
       "            Plotly.purge(gd);\n",
       "            observer.disconnect();\n",
       "        }}\n",
       "}});\n",
       "\n",
       "// Listen for the removal of the full notebook cells\n",
       "var notebookContainer = gd.closest('#notebook-container');\n",
       "if (notebookContainer) {{\n",
       "    x.observe(notebookContainer, {childList: true});\n",
       "}}\n",
       "\n",
       "// Listen for the clearing of the current output cell\n",
       "var outputEl = gd.closest('.output');\n",
       "if (outputEl) {{\n",
       "    x.observe(outputEl, {childList: true});\n",
       "}}\n",
       "\n",
       "                        })\n",
       "                };\n",
       "                });\n",
       "            </script>\n",
       "        </div>"
      ]
     },
     "metadata": {},
     "output_type": "display_data"
    }
   ],
   "source": [
    "trace = go.Ohlc(x=SP['12-2019'].index,\n",
    "                open=SP['12-2019'].Open,\n",
    "                high=SP['12-2019'].High,\n",
    "                low=SP['12-2019'].Low,\n",
    "                close=SP['12-2019'].Close)\n",
    "data = [trace]\n",
    "iplot(data, filename='simple_ohlc')"
   ]
  },
  {
   "cell_type": "code",
   "execution_count": 58,
   "metadata": {},
   "outputs": [
    {
     "data": {
      "application/vnd.plotly.v1+json": {
       "config": {
        "linkText": "Export to plot.ly",
        "plotlyServerURL": "https://plot.ly",
        "showLink": false
       },
       "data": [
        {
         "close": [
          2510.030029296875,
          2447.889892578125,
          2531.93994140625,
          2549.68994140625,
          2574.409912109375,
          2584.9599609375,
          2596.639892578125,
          2596.260009765625,
          2582.610107421875,
          2610.300048828125,
          2616.10009765625,
          2635.9599609375,
          2670.7099609375,
          2632.89990234375,
          2638.699951171875,
          2642.330078125,
          2664.760009765625,
          2643.85009765625,
          2640,
          2681.050048828125,
          2704.10009765625,
          2706.530029296875,
          2724.8701171875,
          2737.699951171875,
          2731.610107421875,
          2706.050048828125,
          2707.8798828125,
          2709.800048828125,
          2744.72998046875,
          2753.030029296875,
          2745.72998046875,
          2775.60009765625,
          2779.760009765625,
          2784.699951171875,
          2774.8798828125,
          2792.669921875,
          2796.110107421875,
          2793.89990234375,
          2792.3798828125,
          2784.489990234375,
          2803.68994140625,
          2792.81005859375,
          2789.64990234375,
          2771.449951171875,
          2748.929931640625,
          2743.070068359375,
          2783.300048828125,
          2791.52001953125,
          2810.919921875,
          2808.47998046875,
          2822.47998046875,
          2832.93994140625,
          2832.570068359375,
          2824.22998046875,
          2854.8798828125,
          2800.7099609375,
          2798.360107421875,
          2818.4599609375,
          2805.3701171875,
          2815.43994140625,
          2834.39990234375,
          2867.18994140625,
          2867.239990234375,
          2873.39990234375,
          2879.389892578125,
          2892.739990234375,
          2895.77001953125,
          2878.199951171875,
          2888.2099609375,
          2888.320068359375,
          2907.409912109375,
          2905.580078125,
          2907.06005859375,
          2900.449951171875,
          2905.030029296875,
          2907.969970703125,
          2933.679931640625,
          2927.25,
          2926.169921875,
          2939.8798828125,
          2943.030029296875,
          2945.830078125,
          2923.72998046875,
          2917.52001953125,
          2945.639892578125,
          2932.469970703125,
          2884.050048828125,
          2879.419921875,
          2870.719970703125,
          2881.39990234375,
          2811.8701171875,
          2834.409912109375,
          2850.9599609375,
          2876.320068359375,
          2859.530029296875,
          2840.22998046875,
          2864.360107421875,
          2856.27001953125,
          2822.239990234375,
          2826.06005859375,
          2802.389892578125,
          2783.02001953125,
          2788.860107421875,
          2752.06005859375,
          2744.449951171875,
          2803.27001953125,
          2826.14990234375,
          2843.489990234375,
          2873.340087890625,
          2886.72998046875,
          2885.719970703125,
          2879.840087890625,
          2891.639892578125,
          2886.97998046875,
          2889.669921875,
          2917.75,
          2926.4599609375,
          2954.179931640625,
          2950.4599609375,
          2945.35009765625,
          2917.3798828125,
          2913.780029296875,
          2924.919921875,
          2941.760009765625,
          2964.330078125,
          2973.010009765625,
          2995.820068359375,
          2990.409912109375,
          2975.949951171875,
          2979.6298828125,
          2993.070068359375,
          2999.909912109375,
          3013.77001953125,
          3014.300048828125,
          3004.0400390625,
          2984.419921875,
          2995.110107421875,
          2976.610107421875,
          2985.030029296875,
          3005.469970703125,
          3019.56005859375,
          3003.669921875,
          3025.860107421875,
          3020.969970703125,
          3013.179931640625,
          2980.3798828125,
          2953.56005859375,
          2932.050048828125,
          2844.739990234375,
          2881.77001953125,
          2883.97998046875,
          2938.090087890625,
          2918.64990234375,
          2882.699951171875,
          2926.320068359375,
          2840.60009765625,
          2847.60009765625,
          2888.679931640625,
          2923.64990234375,
          2900.510009765625,
          2924.429931640625,
          2922.949951171875,
          2847.110107421875,
          2878.3798828125,
          2869.159912109375,
          2887.93994140625,
          2924.580078125,
          2926.4599609375,
          2906.27001953125,
          2937.780029296875,
          2976,
          2978.7099609375,
          2978.429931640625,
          2979.389892578125,
          3000.929931640625,
          3009.570068359375,
          3007.389892578125,
          2997.9599609375,
          3005.699951171875,
          3006.72998046875,
          3006.7900390625,
          2992.070068359375,
          2991.780029296875,
          2966.60009765625,
          2984.8701171875,
          2977.6201171875,
          2961.7900390625,
          2976.739990234375,
          2940.25,
          2887.610107421875,
          2910.6298828125,
          2952.010009765625,
          2938.7900390625,
          2893.06005859375,
          2919.39990234375,
          2938.1298828125,
          2970.27001953125,
          2966.14990234375,
          2995.679931640625,
          2989.68994140625,
          2997.949951171875,
          2986.199951171875,
          3006.719970703125,
          2995.989990234375,
          3004.52001953125,
          3010.2900390625,
          3022.550048828125,
          3039.419921875,
          3036.889892578125,
          3046.77001953125,
          3037.56005859375,
          3066.909912109375,
          3078.27001953125,
          3074.6201171875,
          3076.780029296875,
          3085.179931640625,
          3093.080078125,
          3087.010009765625,
          3091.840087890625,
          3094.0400390625,
          3096.6298828125,
          3120.4599609375,
          3122.030029296875,
          3120.179931640625,
          3108.4599609375,
          3103.5400390625,
          3110.2900390625,
          3133.639892578125,
          3140.52001953125,
          3153.6298828125,
          3140.97998046875,
          3113.8701171875,
          3093.199951171875,
          3112.760009765625,
          3117.429931640625,
          3145.909912109375,
          3135.9599609375,
          3132.52001953125,
          3141.6298828125,
          3168.570068359375,
          3168.800048828125,
          3191.449951171875,
          3192.52001953125,
          3191.139892578125,
          3205.3701171875,
          3221.219970703125,
          3224.010009765625,
          3223.3798828125
         ],
         "high": [
          2519.489990234375,
          2493.139892578125,
          2538.070068359375,
          2566.159912109375,
          2579.820068359375,
          2595.320068359375,
          2597.820068359375,
          2596.27001953125,
          2589.320068359375,
          2613.080078125,
          2625.760009765625,
          2645.06005859375,
          2675.469970703125,
          2657.8798828125,
          2653.18994140625,
          2647.199951171875,
          2672.3798828125,
          2644.969970703125,
          2650.929931640625,
          2690.43994140625,
          2708.949951171875,
          2716.659912109375,
          2724.989990234375,
          2738.97998046875,
          2738.080078125,
          2719.320068359375,
          2708.070068359375,
          2718.050048828125,
          2748.18994140625,
          2761.85009765625,
          2757.89990234375,
          2775.659912109375,
          2787.330078125,
          2789.8798828125,
          2781.580078125,
          2794.199951171875,
          2813.489990234375,
          2803.1201171875,
          2795.760009765625,
          2793.72998046875,
          2808.02001953125,
          2816.8798828125,
          2796.43994140625,
          2790.27001953125,
          2767.25,
          2744.1298828125,
          2784,
          2798.320068359375,
          2821.239990234375,
          2815,
          2830.72998046875,
          2835.409912109375,
          2852.419921875,
          2843.5400390625,
          2860.31005859375,
          2846.159912109375,
          2809.7900390625,
          2829.8701171875,
          2825.56005859375,
          2819.7099609375,
          2836.030029296875,
          2869.39990234375,
          2872.89990234375,
          2885.25,
          2881.280029296875,
          2893.239990234375,
          2895.949951171875,
          2886.8798828125,
          2889.7099609375,
          2893.419921875,
          2910.5400390625,
          2909.60009765625,
          2916.06005859375,
          2918,
          2908.39990234375,
          2909.510009765625,
          2936.31005859375,
          2936.830078125,
          2933.10009765625,
          2939.8798828125,
          2949.52001953125,
          2948.219970703125,
          2954.1298828125,
          2931.679931640625,
          2947.85009765625,
          2937.320068359375,
          2913.030029296875,
          2897.9599609375,
          2875.969970703125,
          2891.31005859375,
          2840.18994140625,
          2852.5400390625,
          2858.679931640625,
          2892.14990234375,
          2885.47998046875,
          2853.860107421875,
          2868.8798828125,
          2865.469970703125,
          2836.699951171875,
          2841.360107421875,
          2840.510009765625,
          2792.030029296875,
          2799,
          2768.97998046875,
          2763.070068359375,
          2804.489990234375,
          2827.280029296875,
          2852.10009765625,
          2884.969970703125,
          2904.77001953125,
          2910.610107421875,
          2888.570068359375,
          2895.239990234375,
          2894.449951171875,
          2897.27001953125,
          2930.7900390625,
          2931.739990234375,
          2958.06005859375,
          2964.14990234375,
          2954.919921875,
          2946.52001953125,
          2932.590087890625,
          2929.300048828125,
          2943.97998046875,
          2977.929931640625,
          2973.2099609375,
          2995.840087890625,
          2994.030029296875,
          2980.760009765625,
          2981.89990234375,
          3002.97998046875,
          3002.330078125,
          3013.919921875,
          3017.800048828125,
          3015.02001953125,
          3005.260009765625,
          2998.280029296875,
          3006.02001953125,
          2990.7099609375,
          3005.89990234375,
          3019.590087890625,
          3016.31005859375,
          3027.97998046875,
          3025.610107421875,
          3017.18994140625,
          3017.39990234375,
          3013.590087890625,
          2945.5,
          2898.070068359375,
          2884.39990234375,
          2892.169921875,
          2938.719970703125,
          2935.75,
          2907.580078125,
          2943.31005859375,
          2894.14990234375,
          2856.669921875,
          2893.6298828125,
          2931,
          2923.6298828125,
          2928.72998046875,
          2939.080078125,
          2927.010009765625,
          2879.27001953125,
          2898.7900390625,
          2890.030029296875,
          2930.5,
          2940.429931640625,
          2914.389892578125,
          2938.840087890625,
          2985.860107421875,
          2985.030029296875,
          2989.429931640625,
          2979.389892578125,
          3000.929931640625,
          3020.739990234375,
          3017.330078125,
          3002.18994140625,
          3006.2099609375,
          3007.830078125,
          3021.989990234375,
          3016.3701171875,
          2999.14990234375,
          3007.97998046875,
          2989.820068359375,
          2987.280029296875,
          2987.31005859375,
          2983.85009765625,
          2992.530029296875,
          2924.780029296875,
          2911.1298828125,
          2953.739990234375,
          2959.75,
          2925.469970703125,
          2929.320068359375,
          2948.4599609375,
          2993.280029296875,
          2972.840087890625,
          3003.280029296875,
          2997.5400390625,
          3008.2900390625,
          3000,
          3007.330078125,
          3014.570068359375,
          3004.780029296875,
          3016.070068359375,
          3027.389892578125,
          3044.080078125,
          3047.8701171875,
          3050.10009765625,
          3046.89990234375,
          3066.949951171875,
          3085.199951171875,
          3083.949951171875,
          3078.340087890625,
          3097.77001953125,
          3093.090087890625,
          3088.330078125,
          3102.610107421875,
          3098.06005859375,
          3098.199951171875,
          3120.4599609375,
          3124.169921875,
          3127.639892578125,
          3118.969970703125,
          3110.110107421875,
          3112.8701171875,
          3133.830078125,
          3142.68994140625,
          3154.260009765625,
          3150.300048828125,
          3144.31005859375,
          3094.969970703125,
          3119.3798828125,
          3119.449951171875,
          3150.60009765625,
          3148.8701171875,
          3142.1201171875,
          3143.97998046875,
          3176.280029296875,
          3182.679931640625,
          3197.7099609375,
          3198.219970703125,
          3198.47998046875,
          3205.47998046875,
          3225.64990234375,
          3227.780029296875,
          3226.429931640625
         ],
         "low": [
          2467.469970703125,
          2443.9599609375,
          2474.330078125,
          2524.56005859375,
          2547.56005859375,
          2568.889892578125,
          2562.02001953125,
          2577.39990234375,
          2570.409912109375,
          2585.10009765625,
          2612.679931640625,
          2606.360107421875,
          2647.580078125,
          2617.27001953125,
          2612.860107421875,
          2627.010009765625,
          2657.330078125,
          2624.06005859375,
          2631.050048828125,
          2648.340087890625,
          2678.64990234375,
          2696.8798828125,
          2698.75,
          2724.030029296875,
          2724.14990234375,
          2687.260009765625,
          2681.830078125,
          2703.7900390625,
          2722.610107421875,
          2748.6298828125,
          2731.22998046875,
          2760.239990234375,
          2767.2900390625,
          2774.06005859375,
          2764.550048828125,
          2779.110107421875,
          2794.989990234375,
          2789.469970703125,
          2775.1298828125,
          2782.510009765625,
          2787.3798828125,
          2767.659912109375,
          2782.969970703125,
          2768.68994140625,
          2739.090087890625,
          2722.27001953125,
          2747.610107421875,
          2786.72998046875,
          2799.780029296875,
          2803.4599609375,
          2810.7900390625,
          2821.989990234375,
          2823.27001953125,
          2812.429931640625,
          2817.3798828125,
          2800.469970703125,
          2785.02001953125,
          2803.989990234375,
          2787.719970703125,
          2798.77001953125,
          2819.22998046875,
          2848.6298828125,
          2858.75,
          2865.169921875,
          2867.139892578125,
          2882.989990234375,
          2880.780029296875,
          2873.330078125,
          2879.1298828125,
          2881.989990234375,
          2898.3701171875,
          2896.47998046875,
          2900.7099609375,
          2895.449951171875,
          2891.89990234375,
          2896.35009765625,
          2908.530029296875,
          2926.050048828125,
          2912.840087890625,
          2917.56005859375,
          2939.35009765625,
          2924.110107421875,
          2923.360107421875,
          2900.5,
          2929.2099609375,
          2898.2099609375,
          2862.60009765625,
          2873.280029296875,
          2836.39990234375,
          2825.389892578125,
          2801.429931640625,
          2820.1201171875,
          2815.080078125,
          2855.800048828125,
          2854.22998046875,
          2831.2900390625,
          2854.02001953125,
          2851.110107421875,
          2805.489990234375,
          2820.18994140625,
          2801.580078125,
          2766.06005859375,
          2776.739990234375,
          2750.52001953125,
          2728.81005859375,
          2762.639892578125,
          2800.919921875,
          2822.449951171875,
          2852.8701171875,
          2885.510009765625,
          2878.530029296875,
          2874.679931640625,
          2881.989990234375,
          2879.6201171875,
          2887.300048828125,
          2905.43994140625,
          2911.429931640625,
          2931.5,
          2946.8701171875,
          2944.050048828125,
          2916.010009765625,
          2912.989990234375,
          2918.570068359375,
          2929.050048828125,
          2952.219970703125,
          2955.919921875,
          2977.9599609375,
          2967.969970703125,
          2970.090087890625,
          2963.43994140625,
          2984.6201171875,
          2988.800048828125,
          3001.8701171875,
          3008.77001953125,
          3001.14990234375,
          2984.25,
          2973.090087890625,
          2975.860107421875,
          2976.64990234375,
          2988.56005859375,
          2996.820068359375,
          2997.239990234375,
          3012.590087890625,
          3014.300048828125,
          3000.93994140625,
          2958.080078125,
          2945.22998046875,
          2914.110107421875,
          2822.1201171875,
          2847.419921875,
          2825.7099609375,
          2894.469970703125,
          2900.14990234375,
          2873.139892578125,
          2877.050048828125,
          2839.639892578125,
          2825.510009765625,
          2864.739990234375,
          2913.47998046875,
          2899.60009765625,
          2917.909912109375,
          2904.510009765625,
          2834.969970703125,
          2856,
          2860.590087890625,
          2853.050048828125,
          2905.669921875,
          2913.320068359375,
          2891.85009765625,
          2921.860107421875,
          2960.60009765625,
          2972.510009765625,
          2969.389892578125,
          2957.010009765625,
          2975.31005859375,
          3000.919921875,
          3002.89990234375,
          2990.669921875,
          2993.72998046875,
          2978.570068359375,
          3003.159912109375,
          2984.679931640625,
          2982.22998046875,
          2957.72998046875,
          2952.860107421875,
          2963.7099609375,
          2945.530029296875,
          2967.070068359375,
          2938.699951171875,
          2874.929931640625,
          2855.93994140625,
          2918.56005859375,
          2935.679931640625,
          2892.659912109375,
          2907.409912109375,
          2917.1201171875,
          2963.070068359375,
          2962.93994140625,
          2973.610107421875,
          2985.199951171875,
          2991.7900390625,
          2976.31005859375,
          2995.35009765625,
          2995.0400390625,
          2991.2099609375,
          3000.419921875,
          3001.93994140625,
          3032.1201171875,
          3034.81005859375,
          3025.9599609375,
          3023.18994140625,
          3050.719970703125,
          3074.8701171875,
          3072.14990234375,
          3065.889892578125,
          3080.22998046875,
          3073.580078125,
          3075.820068359375,
          3084.72998046875,
          3078.800048828125,
          3083.260009765625,
          3104.60009765625,
          3112.06005859375,
          3113.469970703125,
          3091.409912109375,
          3094.550048828125,
          3099.260009765625,
          3117.43994140625,
          3131,
          3143.409912109375,
          3139.340087890625,
          3110.780029296875,
          3070.330078125,
          3102.530029296875,
          3103.760009765625,
          3134.6201171875,
          3135.4599609375,
          3126.090087890625,
          3133.2099609375,
          3138.469970703125,
          3156.510009765625,
          3183.6298828125,
          3191.030029296875,
          3191.139892578125,
          3192.320068359375,
          3216.030029296875,
          3222.300048828125,
          3220.510009765625
         ],
         "open": [
          2476.9599609375,
          2491.919921875,
          2474.330078125,
          2535.610107421875,
          2568.110107421875,
          2580,
          2573.510009765625,
          2588.110107421875,
          2580.31005859375,
          2585.10009765625,
          2614.75,
          2609.280029296875,
          2651.27001953125,
          2657.8798828125,
          2643.47998046875,
          2638.840087890625,
          2657.43994140625,
          2644.969970703125,
          2644.889892578125,
          2653.6201171875,
          2685.489990234375,
          2702.320068359375,
          2706.489990234375,
          2728.340087890625,
          2735.050048828125,
          2717.530029296875,
          2692.360107421875,
          2712.39990234375,
          2722.610107421875,
          2750.300048828125,
          2743.5,
          2760.239990234375,
          2769.280029296875,
          2779.050048828125,
          2780.239990234375,
          2780.669921875,
          2804.35009765625,
          2792.360107421875,
          2787.5,
          2788.110107421875,
          2798.219970703125,
          2814.3701171875,
          2794.409912109375,
          2790.27001953125,
          2766.530029296875,
          2730.7900390625,
          2747.610107421875,
          2787.340087890625,
          2799.780029296875,
          2810.3798828125,
          2810.7900390625,
          2822.610107421875,
          2840.760009765625,
          2831.340087890625,
          2819.719970703125,
          2844.52001953125,
          2796.010009765625,
          2812.659912109375,
          2819.719970703125,
          2809.39990234375,
          2828.27001953125,
          2848.6298828125,
          2868.239990234375,
          2876.090087890625,
          2873.989990234375,
          2884.159912109375,
          2888.4599609375,
          2886.580078125,
          2881.3701171875,
          2891.919921875,
          2900.860107421875,
          2908.320068359375,
          2912.260009765625,
          2916.0400390625,
          2904.81005859375,
          2898.780029296875,
          2909.989990234375,
          2934,
          2928.989990234375,
          2925.81005859375,
          2940.580078125,
          2937.139892578125,
          2952.330078125,
          2922.159912109375,
          2929.2099609375,
          2908.889892578125,
          2913.030029296875,
          2879.610107421875,
          2859.840087890625,
          2863.10009765625,
          2840.18994140625,
          2820.1201171875,
          2820.3798828125,
          2855.800048828125,
          2858.60009765625,
          2841.93994140625,
          2854.02001953125,
          2856.06005859375,
          2836.699951171875,
          2832.409912109375,
          2830.030029296875,
          2790.25,
          2786.93994140625,
          2766.14990234375,
          2751.530029296875,
          2762.639892578125,
          2818.090087890625,
          2828.510009765625,
          2852.8701171875,
          2885.830078125,
          2903.27001953125,
          2882.72998046875,
          2886.239990234375,
          2886.820068359375,
          2889.75,
          2906.7099609375,
          2920.550048828125,
          2949.60009765625,
          2952.7099609375,
          2951.419921875,
          2945.780029296875,
          2926.070068359375,
          2919.659912109375,
          2932.93994140625,
          2971.409912109375,
          2964.659912109375,
          2978.080078125,
          2984.25,
          2979.77001953125,
          2965.52001953125,
          2989.300048828125,
          2999.6201171875,
          3003.360107421875,
          3017.800048828125,
          3012.1298828125,
          3005.10009765625,
          2978.8701171875,
          3004.260009765625,
          2981.929931640625,
          2994.739990234375,
          2998.77001953125,
          3016.260009765625,
          3013.25,
          3024.469970703125,
          3007.659912109375,
          3016.219970703125,
          2980.320068359375,
          2943.89990234375,
          2898.070068359375,
          2861.179931640625,
          2858.64990234375,
          2896.2099609375,
          2930.510009765625,
          2907.070068359375,
          2880.719970703125,
          2894.14990234375,
          2846.199951171875,
          2864.739990234375,
          2913.47998046875,
          2919.010009765625,
          2922.0400390625,
          2930.93994140625,
          2911.070068359375,
          2866.699951171875,
          2893.139892578125,
          2861.280029296875,
          2910.3701171875,
          2937.090087890625,
          2909.010009765625,
          2924.669921875,
          2960.60009765625,
          2980.330078125,
          2988.429931640625,
          2971.010009765625,
          2981.409912109375,
          3009.080078125,
          3012.2099609375,
          2996.409912109375,
          2995.669921875,
          3001.5,
          3010.360107421875,
          3008.419921875,
          2983.5,
          3002.429931640625,
          2968.35009765625,
          2985.72998046875,
          2985.469970703125,
          2967.070068359375,
          2983.68994140625,
          2924.780029296875,
          2885.3798828125,
          2918.56005859375,
          2944.22998046875,
          2920.39990234375,
          2911.10009765625,
          2918.550048828125,
          2963.070068359375,
          2965.81005859375,
          2973.610107421875,
          2989.679931640625,
          3000.77001953125,
          2996.840087890625,
          2996.47998046875,
          3010.72998046875,
          2994.010009765625,
          3014.780029296875,
          3003.320068359375,
          3032.1201171875,
          3035.389892578125,
          3039.739990234375,
          3046.89990234375,
          3050.719970703125,
          3078.9599609375,
          3080.800048828125,
          3075.10009765625,
          3087.02001953125,
          3081.25,
          3080.330078125,
          3089.280029296875,
          3084.179931640625,
          3090.75,
          3107.919921875,
          3117.909912109375,
          3127.449951171875,
          3114.659912109375,
          3108.489990234375,
          3111.409912109375,
          3117.43994140625,
          3134.85009765625,
          3145.489990234375,
          3147.179931640625,
          3143.85009765625,
          3087.409912109375,
          3103.5,
          3119.2099609375,
          3134.6201171875,
          3141.860107421875,
          3135.360107421875,
          3135.75,
          3141.22998046875,
          3166.64990234375,
          3183.6298828125,
          3195.39990234375,
          3195.2099609375,
          3192.320068359375,
          3223.330078125,
          3226.050048828125,
          3225.449951171875
         ],
         "type": "ohlc",
         "x": [
          "2019-01-02T00:00:00",
          "2019-01-03T00:00:00",
          "2019-01-04T00:00:00",
          "2019-01-07T00:00:00",
          "2019-01-08T00:00:00",
          "2019-01-09T00:00:00",
          "2019-01-10T00:00:00",
          "2019-01-11T00:00:00",
          "2019-01-14T00:00:00",
          "2019-01-15T00:00:00",
          "2019-01-16T00:00:00",
          "2019-01-17T00:00:00",
          "2019-01-18T00:00:00",
          "2019-01-22T00:00:00",
          "2019-01-23T00:00:00",
          "2019-01-24T00:00:00",
          "2019-01-25T00:00:00",
          "2019-01-28T00:00:00",
          "2019-01-29T00:00:00",
          "2019-01-30T00:00:00",
          "2019-01-31T00:00:00",
          "2019-02-01T00:00:00",
          "2019-02-04T00:00:00",
          "2019-02-05T00:00:00",
          "2019-02-06T00:00:00",
          "2019-02-07T00:00:00",
          "2019-02-08T00:00:00",
          "2019-02-11T00:00:00",
          "2019-02-12T00:00:00",
          "2019-02-13T00:00:00",
          "2019-02-14T00:00:00",
          "2019-02-15T00:00:00",
          "2019-02-19T00:00:00",
          "2019-02-20T00:00:00",
          "2019-02-21T00:00:00",
          "2019-02-22T00:00:00",
          "2019-02-25T00:00:00",
          "2019-02-26T00:00:00",
          "2019-02-27T00:00:00",
          "2019-02-28T00:00:00",
          "2019-03-01T00:00:00",
          "2019-03-04T00:00:00",
          "2019-03-05T00:00:00",
          "2019-03-06T00:00:00",
          "2019-03-07T00:00:00",
          "2019-03-08T00:00:00",
          "2019-03-11T00:00:00",
          "2019-03-12T00:00:00",
          "2019-03-13T00:00:00",
          "2019-03-14T00:00:00",
          "2019-03-15T00:00:00",
          "2019-03-18T00:00:00",
          "2019-03-19T00:00:00",
          "2019-03-20T00:00:00",
          "2019-03-21T00:00:00",
          "2019-03-22T00:00:00",
          "2019-03-25T00:00:00",
          "2019-03-26T00:00:00",
          "2019-03-27T00:00:00",
          "2019-03-28T00:00:00",
          "2019-03-29T00:00:00",
          "2019-04-01T00:00:00",
          "2019-04-02T00:00:00",
          "2019-04-03T00:00:00",
          "2019-04-04T00:00:00",
          "2019-04-05T00:00:00",
          "2019-04-08T00:00:00",
          "2019-04-09T00:00:00",
          "2019-04-10T00:00:00",
          "2019-04-11T00:00:00",
          "2019-04-12T00:00:00",
          "2019-04-15T00:00:00",
          "2019-04-16T00:00:00",
          "2019-04-17T00:00:00",
          "2019-04-18T00:00:00",
          "2019-04-22T00:00:00",
          "2019-04-23T00:00:00",
          "2019-04-24T00:00:00",
          "2019-04-25T00:00:00",
          "2019-04-26T00:00:00",
          "2019-04-29T00:00:00",
          "2019-04-30T00:00:00",
          "2019-05-01T00:00:00",
          "2019-05-02T00:00:00",
          "2019-05-03T00:00:00",
          "2019-05-06T00:00:00",
          "2019-05-07T00:00:00",
          "2019-05-08T00:00:00",
          "2019-05-09T00:00:00",
          "2019-05-10T00:00:00",
          "2019-05-13T00:00:00",
          "2019-05-14T00:00:00",
          "2019-05-15T00:00:00",
          "2019-05-16T00:00:00",
          "2019-05-17T00:00:00",
          "2019-05-20T00:00:00",
          "2019-05-21T00:00:00",
          "2019-05-22T00:00:00",
          "2019-05-23T00:00:00",
          "2019-05-24T00:00:00",
          "2019-05-28T00:00:00",
          "2019-05-29T00:00:00",
          "2019-05-30T00:00:00",
          "2019-05-31T00:00:00",
          "2019-06-03T00:00:00",
          "2019-06-04T00:00:00",
          "2019-06-05T00:00:00",
          "2019-06-06T00:00:00",
          "2019-06-07T00:00:00",
          "2019-06-10T00:00:00",
          "2019-06-11T00:00:00",
          "2019-06-12T00:00:00",
          "2019-06-13T00:00:00",
          "2019-06-14T00:00:00",
          "2019-06-17T00:00:00",
          "2019-06-18T00:00:00",
          "2019-06-19T00:00:00",
          "2019-06-20T00:00:00",
          "2019-06-21T00:00:00",
          "2019-06-24T00:00:00",
          "2019-06-25T00:00:00",
          "2019-06-26T00:00:00",
          "2019-06-27T00:00:00",
          "2019-06-28T00:00:00",
          "2019-07-01T00:00:00",
          "2019-07-02T00:00:00",
          "2019-07-03T00:00:00",
          "2019-07-05T00:00:00",
          "2019-07-08T00:00:00",
          "2019-07-09T00:00:00",
          "2019-07-10T00:00:00",
          "2019-07-11T00:00:00",
          "2019-07-12T00:00:00",
          "2019-07-15T00:00:00",
          "2019-07-16T00:00:00",
          "2019-07-17T00:00:00",
          "2019-07-18T00:00:00",
          "2019-07-19T00:00:00",
          "2019-07-22T00:00:00",
          "2019-07-23T00:00:00",
          "2019-07-24T00:00:00",
          "2019-07-25T00:00:00",
          "2019-07-26T00:00:00",
          "2019-07-29T00:00:00",
          "2019-07-30T00:00:00",
          "2019-07-31T00:00:00",
          "2019-08-01T00:00:00",
          "2019-08-02T00:00:00",
          "2019-08-05T00:00:00",
          "2019-08-06T00:00:00",
          "2019-08-07T00:00:00",
          "2019-08-08T00:00:00",
          "2019-08-09T00:00:00",
          "2019-08-12T00:00:00",
          "2019-08-13T00:00:00",
          "2019-08-14T00:00:00",
          "2019-08-15T00:00:00",
          "2019-08-16T00:00:00",
          "2019-08-19T00:00:00",
          "2019-08-20T00:00:00",
          "2019-08-21T00:00:00",
          "2019-08-22T00:00:00",
          "2019-08-23T00:00:00",
          "2019-08-26T00:00:00",
          "2019-08-27T00:00:00",
          "2019-08-28T00:00:00",
          "2019-08-29T00:00:00",
          "2019-08-30T00:00:00",
          "2019-09-03T00:00:00",
          "2019-09-04T00:00:00",
          "2019-09-05T00:00:00",
          "2019-09-06T00:00:00",
          "2019-09-09T00:00:00",
          "2019-09-10T00:00:00",
          "2019-09-11T00:00:00",
          "2019-09-12T00:00:00",
          "2019-09-13T00:00:00",
          "2019-09-16T00:00:00",
          "2019-09-17T00:00:00",
          "2019-09-18T00:00:00",
          "2019-09-19T00:00:00",
          "2019-09-20T00:00:00",
          "2019-09-23T00:00:00",
          "2019-09-24T00:00:00",
          "2019-09-25T00:00:00",
          "2019-09-26T00:00:00",
          "2019-09-27T00:00:00",
          "2019-09-30T00:00:00",
          "2019-10-01T00:00:00",
          "2019-10-02T00:00:00",
          "2019-10-03T00:00:00",
          "2019-10-04T00:00:00",
          "2019-10-07T00:00:00",
          "2019-10-08T00:00:00",
          "2019-10-09T00:00:00",
          "2019-10-10T00:00:00",
          "2019-10-11T00:00:00",
          "2019-10-14T00:00:00",
          "2019-10-15T00:00:00",
          "2019-10-16T00:00:00",
          "2019-10-17T00:00:00",
          "2019-10-18T00:00:00",
          "2019-10-21T00:00:00",
          "2019-10-22T00:00:00",
          "2019-10-23T00:00:00",
          "2019-10-24T00:00:00",
          "2019-10-25T00:00:00",
          "2019-10-28T00:00:00",
          "2019-10-29T00:00:00",
          "2019-10-30T00:00:00",
          "2019-10-31T00:00:00",
          "2019-11-01T00:00:00",
          "2019-11-04T00:00:00",
          "2019-11-05T00:00:00",
          "2019-11-06T00:00:00",
          "2019-11-07T00:00:00",
          "2019-11-08T00:00:00",
          "2019-11-11T00:00:00",
          "2019-11-12T00:00:00",
          "2019-11-13T00:00:00",
          "2019-11-14T00:00:00",
          "2019-11-15T00:00:00",
          "2019-11-18T00:00:00",
          "2019-11-19T00:00:00",
          "2019-11-20T00:00:00",
          "2019-11-21T00:00:00",
          "2019-11-22T00:00:00",
          "2019-11-25T00:00:00",
          "2019-11-26T00:00:00",
          "2019-11-27T00:00:00",
          "2019-11-29T00:00:00",
          "2019-12-02T00:00:00",
          "2019-12-03T00:00:00",
          "2019-12-04T00:00:00",
          "2019-12-05T00:00:00",
          "2019-12-06T00:00:00",
          "2019-12-09T00:00:00",
          "2019-12-10T00:00:00",
          "2019-12-11T00:00:00",
          "2019-12-12T00:00:00",
          "2019-12-13T00:00:00",
          "2019-12-16T00:00:00",
          "2019-12-17T00:00:00",
          "2019-12-18T00:00:00",
          "2019-12-19T00:00:00",
          "2019-12-20T00:00:00",
          "2019-12-23T00:00:00",
          "2019-12-24T00:00:00"
         ]
        }
       ],
       "layout": {
        "template": {
         "data": {
          "bar": [
           {
            "error_x": {
             "color": "#2a3f5f"
            },
            "error_y": {
             "color": "#2a3f5f"
            },
            "marker": {
             "line": {
              "color": "#E5ECF6",
              "width": 0.5
             }
            },
            "type": "bar"
           }
          ],
          "barpolar": [
           {
            "marker": {
             "line": {
              "color": "#E5ECF6",
              "width": 0.5
             }
            },
            "type": "barpolar"
           }
          ],
          "carpet": [
           {
            "aaxis": {
             "endlinecolor": "#2a3f5f",
             "gridcolor": "white",
             "linecolor": "white",
             "minorgridcolor": "white",
             "startlinecolor": "#2a3f5f"
            },
            "baxis": {
             "endlinecolor": "#2a3f5f",
             "gridcolor": "white",
             "linecolor": "white",
             "minorgridcolor": "white",
             "startlinecolor": "#2a3f5f"
            },
            "type": "carpet"
           }
          ],
          "choropleth": [
           {
            "colorbar": {
             "outlinewidth": 0,
             "ticks": ""
            },
            "type": "choropleth"
           }
          ],
          "contour": [
           {
            "colorbar": {
             "outlinewidth": 0,
             "ticks": ""
            },
            "colorscale": [
             [
              0,
              "#0d0887"
             ],
             [
              0.1111111111111111,
              "#46039f"
             ],
             [
              0.2222222222222222,
              "#7201a8"
             ],
             [
              0.3333333333333333,
              "#9c179e"
             ],
             [
              0.4444444444444444,
              "#bd3786"
             ],
             [
              0.5555555555555556,
              "#d8576b"
             ],
             [
              0.6666666666666666,
              "#ed7953"
             ],
             [
              0.7777777777777778,
              "#fb9f3a"
             ],
             [
              0.8888888888888888,
              "#fdca26"
             ],
             [
              1,
              "#f0f921"
             ]
            ],
            "type": "contour"
           }
          ],
          "contourcarpet": [
           {
            "colorbar": {
             "outlinewidth": 0,
             "ticks": ""
            },
            "type": "contourcarpet"
           }
          ],
          "heatmap": [
           {
            "colorbar": {
             "outlinewidth": 0,
             "ticks": ""
            },
            "colorscale": [
             [
              0,
              "#0d0887"
             ],
             [
              0.1111111111111111,
              "#46039f"
             ],
             [
              0.2222222222222222,
              "#7201a8"
             ],
             [
              0.3333333333333333,
              "#9c179e"
             ],
             [
              0.4444444444444444,
              "#bd3786"
             ],
             [
              0.5555555555555556,
              "#d8576b"
             ],
             [
              0.6666666666666666,
              "#ed7953"
             ],
             [
              0.7777777777777778,
              "#fb9f3a"
             ],
             [
              0.8888888888888888,
              "#fdca26"
             ],
             [
              1,
              "#f0f921"
             ]
            ],
            "type": "heatmap"
           }
          ],
          "heatmapgl": [
           {
            "colorbar": {
             "outlinewidth": 0,
             "ticks": ""
            },
            "colorscale": [
             [
              0,
              "#0d0887"
             ],
             [
              0.1111111111111111,
              "#46039f"
             ],
             [
              0.2222222222222222,
              "#7201a8"
             ],
             [
              0.3333333333333333,
              "#9c179e"
             ],
             [
              0.4444444444444444,
              "#bd3786"
             ],
             [
              0.5555555555555556,
              "#d8576b"
             ],
             [
              0.6666666666666666,
              "#ed7953"
             ],
             [
              0.7777777777777778,
              "#fb9f3a"
             ],
             [
              0.8888888888888888,
              "#fdca26"
             ],
             [
              1,
              "#f0f921"
             ]
            ],
            "type": "heatmapgl"
           }
          ],
          "histogram": [
           {
            "marker": {
             "colorbar": {
              "outlinewidth": 0,
              "ticks": ""
             }
            },
            "type": "histogram"
           }
          ],
          "histogram2d": [
           {
            "colorbar": {
             "outlinewidth": 0,
             "ticks": ""
            },
            "colorscale": [
             [
              0,
              "#0d0887"
             ],
             [
              0.1111111111111111,
              "#46039f"
             ],
             [
              0.2222222222222222,
              "#7201a8"
             ],
             [
              0.3333333333333333,
              "#9c179e"
             ],
             [
              0.4444444444444444,
              "#bd3786"
             ],
             [
              0.5555555555555556,
              "#d8576b"
             ],
             [
              0.6666666666666666,
              "#ed7953"
             ],
             [
              0.7777777777777778,
              "#fb9f3a"
             ],
             [
              0.8888888888888888,
              "#fdca26"
             ],
             [
              1,
              "#f0f921"
             ]
            ],
            "type": "histogram2d"
           }
          ],
          "histogram2dcontour": [
           {
            "colorbar": {
             "outlinewidth": 0,
             "ticks": ""
            },
            "colorscale": [
             [
              0,
              "#0d0887"
             ],
             [
              0.1111111111111111,
              "#46039f"
             ],
             [
              0.2222222222222222,
              "#7201a8"
             ],
             [
              0.3333333333333333,
              "#9c179e"
             ],
             [
              0.4444444444444444,
              "#bd3786"
             ],
             [
              0.5555555555555556,
              "#d8576b"
             ],
             [
              0.6666666666666666,
              "#ed7953"
             ],
             [
              0.7777777777777778,
              "#fb9f3a"
             ],
             [
              0.8888888888888888,
              "#fdca26"
             ],
             [
              1,
              "#f0f921"
             ]
            ],
            "type": "histogram2dcontour"
           }
          ],
          "mesh3d": [
           {
            "colorbar": {
             "outlinewidth": 0,
             "ticks": ""
            },
            "type": "mesh3d"
           }
          ],
          "parcoords": [
           {
            "line": {
             "colorbar": {
              "outlinewidth": 0,
              "ticks": ""
             }
            },
            "type": "parcoords"
           }
          ],
          "pie": [
           {
            "automargin": true,
            "type": "pie"
           }
          ],
          "scatter": [
           {
            "marker": {
             "colorbar": {
              "outlinewidth": 0,
              "ticks": ""
             }
            },
            "type": "scatter"
           }
          ],
          "scatter3d": [
           {
            "line": {
             "colorbar": {
              "outlinewidth": 0,
              "ticks": ""
             }
            },
            "marker": {
             "colorbar": {
              "outlinewidth": 0,
              "ticks": ""
             }
            },
            "type": "scatter3d"
           }
          ],
          "scattercarpet": [
           {
            "marker": {
             "colorbar": {
              "outlinewidth": 0,
              "ticks": ""
             }
            },
            "type": "scattercarpet"
           }
          ],
          "scattergeo": [
           {
            "marker": {
             "colorbar": {
              "outlinewidth": 0,
              "ticks": ""
             }
            },
            "type": "scattergeo"
           }
          ],
          "scattergl": [
           {
            "marker": {
             "colorbar": {
              "outlinewidth": 0,
              "ticks": ""
             }
            },
            "type": "scattergl"
           }
          ],
          "scattermapbox": [
           {
            "marker": {
             "colorbar": {
              "outlinewidth": 0,
              "ticks": ""
             }
            },
            "type": "scattermapbox"
           }
          ],
          "scatterpolar": [
           {
            "marker": {
             "colorbar": {
              "outlinewidth": 0,
              "ticks": ""
             }
            },
            "type": "scatterpolar"
           }
          ],
          "scatterpolargl": [
           {
            "marker": {
             "colorbar": {
              "outlinewidth": 0,
              "ticks": ""
             }
            },
            "type": "scatterpolargl"
           }
          ],
          "scatterternary": [
           {
            "marker": {
             "colorbar": {
              "outlinewidth": 0,
              "ticks": ""
             }
            },
            "type": "scatterternary"
           }
          ],
          "surface": [
           {
            "colorbar": {
             "outlinewidth": 0,
             "ticks": ""
            },
            "colorscale": [
             [
              0,
              "#0d0887"
             ],
             [
              0.1111111111111111,
              "#46039f"
             ],
             [
              0.2222222222222222,
              "#7201a8"
             ],
             [
              0.3333333333333333,
              "#9c179e"
             ],
             [
              0.4444444444444444,
              "#bd3786"
             ],
             [
              0.5555555555555556,
              "#d8576b"
             ],
             [
              0.6666666666666666,
              "#ed7953"
             ],
             [
              0.7777777777777778,
              "#fb9f3a"
             ],
             [
              0.8888888888888888,
              "#fdca26"
             ],
             [
              1,
              "#f0f921"
             ]
            ],
            "type": "surface"
           }
          ],
          "table": [
           {
            "cells": {
             "fill": {
              "color": "#EBF0F8"
             },
             "line": {
              "color": "white"
             }
            },
            "header": {
             "fill": {
              "color": "#C8D4E3"
             },
             "line": {
              "color": "white"
             }
            },
            "type": "table"
           }
          ]
         },
         "layout": {
          "annotationdefaults": {
           "arrowcolor": "#2a3f5f",
           "arrowhead": 0,
           "arrowwidth": 1
          },
          "coloraxis": {
           "colorbar": {
            "outlinewidth": 0,
            "ticks": ""
           }
          },
          "colorscale": {
           "diverging": [
            [
             0,
             "#8e0152"
            ],
            [
             0.1,
             "#c51b7d"
            ],
            [
             0.2,
             "#de77ae"
            ],
            [
             0.3,
             "#f1b6da"
            ],
            [
             0.4,
             "#fde0ef"
            ],
            [
             0.5,
             "#f7f7f7"
            ],
            [
             0.6,
             "#e6f5d0"
            ],
            [
             0.7,
             "#b8e186"
            ],
            [
             0.8,
             "#7fbc41"
            ],
            [
             0.9,
             "#4d9221"
            ],
            [
             1,
             "#276419"
            ]
           ],
           "sequential": [
            [
             0,
             "#0d0887"
            ],
            [
             0.1111111111111111,
             "#46039f"
            ],
            [
             0.2222222222222222,
             "#7201a8"
            ],
            [
             0.3333333333333333,
             "#9c179e"
            ],
            [
             0.4444444444444444,
             "#bd3786"
            ],
            [
             0.5555555555555556,
             "#d8576b"
            ],
            [
             0.6666666666666666,
             "#ed7953"
            ],
            [
             0.7777777777777778,
             "#fb9f3a"
            ],
            [
             0.8888888888888888,
             "#fdca26"
            ],
            [
             1,
             "#f0f921"
            ]
           ],
           "sequentialminus": [
            [
             0,
             "#0d0887"
            ],
            [
             0.1111111111111111,
             "#46039f"
            ],
            [
             0.2222222222222222,
             "#7201a8"
            ],
            [
             0.3333333333333333,
             "#9c179e"
            ],
            [
             0.4444444444444444,
             "#bd3786"
            ],
            [
             0.5555555555555556,
             "#d8576b"
            ],
            [
             0.6666666666666666,
             "#ed7953"
            ],
            [
             0.7777777777777778,
             "#fb9f3a"
            ],
            [
             0.8888888888888888,
             "#fdca26"
            ],
            [
             1,
             "#f0f921"
            ]
           ]
          },
          "colorway": [
           "#636efa",
           "#EF553B",
           "#00cc96",
           "#ab63fa",
           "#FFA15A",
           "#19d3f3",
           "#FF6692",
           "#B6E880",
           "#FF97FF",
           "#FECB52"
          ],
          "font": {
           "color": "#2a3f5f"
          },
          "geo": {
           "bgcolor": "white",
           "lakecolor": "white",
           "landcolor": "#E5ECF6",
           "showlakes": true,
           "showland": true,
           "subunitcolor": "white"
          },
          "hoverlabel": {
           "align": "left"
          },
          "hovermode": "closest",
          "mapbox": {
           "style": "light"
          },
          "paper_bgcolor": "white",
          "plot_bgcolor": "#E5ECF6",
          "polar": {
           "angularaxis": {
            "gridcolor": "white",
            "linecolor": "white",
            "ticks": ""
           },
           "bgcolor": "#E5ECF6",
           "radialaxis": {
            "gridcolor": "white",
            "linecolor": "white",
            "ticks": ""
           }
          },
          "scene": {
           "xaxis": {
            "backgroundcolor": "#E5ECF6",
            "gridcolor": "white",
            "gridwidth": 2,
            "linecolor": "white",
            "showbackground": true,
            "ticks": "",
            "zerolinecolor": "white"
           },
           "yaxis": {
            "backgroundcolor": "#E5ECF6",
            "gridcolor": "white",
            "gridwidth": 2,
            "linecolor": "white",
            "showbackground": true,
            "ticks": "",
            "zerolinecolor": "white"
           },
           "zaxis": {
            "backgroundcolor": "#E5ECF6",
            "gridcolor": "white",
            "gridwidth": 2,
            "linecolor": "white",
            "showbackground": true,
            "ticks": "",
            "zerolinecolor": "white"
           }
          },
          "shapedefaults": {
           "line": {
            "color": "#2a3f5f"
           }
          },
          "ternary": {
           "aaxis": {
            "gridcolor": "white",
            "linecolor": "white",
            "ticks": ""
           },
           "baxis": {
            "gridcolor": "white",
            "linecolor": "white",
            "ticks": ""
           },
           "bgcolor": "#E5ECF6",
           "caxis": {
            "gridcolor": "white",
            "linecolor": "white",
            "ticks": ""
           }
          },
          "title": {
           "x": 0.05
          },
          "xaxis": {
           "automargin": true,
           "gridcolor": "white",
           "linecolor": "white",
           "ticks": "",
           "title": {
            "standoff": 15
           },
           "zerolinecolor": "white",
           "zerolinewidth": 2
          },
          "yaxis": {
           "automargin": true,
           "gridcolor": "white",
           "linecolor": "white",
           "ticks": "",
           "title": {
            "standoff": 15
           },
           "zerolinecolor": "white",
           "zerolinewidth": 2
          }
         }
        }
       }
      },
      "text/html": [
       "<div>\n",
       "        \n",
       "        \n",
       "            <div id=\"bafd307f-4bf2-40bb-bddd-efe1a85aeb75\" class=\"plotly-graph-div\" style=\"height:525px; width:100%;\"></div>\n",
       "            <script type=\"text/javascript\">\n",
       "                require([\"plotly\"], function(Plotly) {\n",
       "                    window.PLOTLYENV=window.PLOTLYENV || {};\n",
       "                    \n",
       "                if (document.getElementById(\"bafd307f-4bf2-40bb-bddd-efe1a85aeb75\")) {\n",
       "                    Plotly.newPlot(\n",
       "                        'bafd307f-4bf2-40bb-bddd-efe1a85aeb75',\n",
       "                        [{\"close\": [2510.030029296875, 2447.889892578125, 2531.93994140625, 2549.68994140625, 2574.409912109375, 2584.9599609375, 2596.639892578125, 2596.260009765625, 2582.610107421875, 2610.300048828125, 2616.10009765625, 2635.9599609375, 2670.7099609375, 2632.89990234375, 2638.699951171875, 2642.330078125, 2664.760009765625, 2643.85009765625, 2640.0, 2681.050048828125, 2704.10009765625, 2706.530029296875, 2724.8701171875, 2737.699951171875, 2731.610107421875, 2706.050048828125, 2707.8798828125, 2709.800048828125, 2744.72998046875, 2753.030029296875, 2745.72998046875, 2775.60009765625, 2779.760009765625, 2784.699951171875, 2774.8798828125, 2792.669921875, 2796.110107421875, 2793.89990234375, 2792.3798828125, 2784.489990234375, 2803.68994140625, 2792.81005859375, 2789.64990234375, 2771.449951171875, 2748.929931640625, 2743.070068359375, 2783.300048828125, 2791.52001953125, 2810.919921875, 2808.47998046875, 2822.47998046875, 2832.93994140625, 2832.570068359375, 2824.22998046875, 2854.8798828125, 2800.7099609375, 2798.360107421875, 2818.4599609375, 2805.3701171875, 2815.43994140625, 2834.39990234375, 2867.18994140625, 2867.239990234375, 2873.39990234375, 2879.389892578125, 2892.739990234375, 2895.77001953125, 2878.199951171875, 2888.2099609375, 2888.320068359375, 2907.409912109375, 2905.580078125, 2907.06005859375, 2900.449951171875, 2905.030029296875, 2907.969970703125, 2933.679931640625, 2927.25, 2926.169921875, 2939.8798828125, 2943.030029296875, 2945.830078125, 2923.72998046875, 2917.52001953125, 2945.639892578125, 2932.469970703125, 2884.050048828125, 2879.419921875, 2870.719970703125, 2881.39990234375, 2811.8701171875, 2834.409912109375, 2850.9599609375, 2876.320068359375, 2859.530029296875, 2840.22998046875, 2864.360107421875, 2856.27001953125, 2822.239990234375, 2826.06005859375, 2802.389892578125, 2783.02001953125, 2788.860107421875, 2752.06005859375, 2744.449951171875, 2803.27001953125, 2826.14990234375, 2843.489990234375, 2873.340087890625, 2886.72998046875, 2885.719970703125, 2879.840087890625, 2891.639892578125, 2886.97998046875, 2889.669921875, 2917.75, 2926.4599609375, 2954.179931640625, 2950.4599609375, 2945.35009765625, 2917.3798828125, 2913.780029296875, 2924.919921875, 2941.760009765625, 2964.330078125, 2973.010009765625, 2995.820068359375, 2990.409912109375, 2975.949951171875, 2979.6298828125, 2993.070068359375, 2999.909912109375, 3013.77001953125, 3014.300048828125, 3004.0400390625, 2984.419921875, 2995.110107421875, 2976.610107421875, 2985.030029296875, 3005.469970703125, 3019.56005859375, 3003.669921875, 3025.860107421875, 3020.969970703125, 3013.179931640625, 2980.3798828125, 2953.56005859375, 2932.050048828125, 2844.739990234375, 2881.77001953125, 2883.97998046875, 2938.090087890625, 2918.64990234375, 2882.699951171875, 2926.320068359375, 2840.60009765625, 2847.60009765625, 2888.679931640625, 2923.64990234375, 2900.510009765625, 2924.429931640625, 2922.949951171875, 2847.110107421875, 2878.3798828125, 2869.159912109375, 2887.93994140625, 2924.580078125, 2926.4599609375, 2906.27001953125, 2937.780029296875, 2976.0, 2978.7099609375, 2978.429931640625, 2979.389892578125, 3000.929931640625, 3009.570068359375, 3007.389892578125, 2997.9599609375, 3005.699951171875, 3006.72998046875, 3006.7900390625, 2992.070068359375, 2991.780029296875, 2966.60009765625, 2984.8701171875, 2977.6201171875, 2961.7900390625, 2976.739990234375, 2940.25, 2887.610107421875, 2910.6298828125, 2952.010009765625, 2938.7900390625, 2893.06005859375, 2919.39990234375, 2938.1298828125, 2970.27001953125, 2966.14990234375, 2995.679931640625, 2989.68994140625, 2997.949951171875, 2986.199951171875, 3006.719970703125, 2995.989990234375, 3004.52001953125, 3010.2900390625, 3022.550048828125, 3039.419921875, 3036.889892578125, 3046.77001953125, 3037.56005859375, 3066.909912109375, 3078.27001953125, 3074.6201171875, 3076.780029296875, 3085.179931640625, 3093.080078125, 3087.010009765625, 3091.840087890625, 3094.0400390625, 3096.6298828125, 3120.4599609375, 3122.030029296875, 3120.179931640625, 3108.4599609375, 3103.5400390625, 3110.2900390625, 3133.639892578125, 3140.52001953125, 3153.6298828125, 3140.97998046875, 3113.8701171875, 3093.199951171875, 3112.760009765625, 3117.429931640625, 3145.909912109375, 3135.9599609375, 3132.52001953125, 3141.6298828125, 3168.570068359375, 3168.800048828125, 3191.449951171875, 3192.52001953125, 3191.139892578125, 3205.3701171875, 3221.219970703125, 3224.010009765625, 3223.3798828125], \"high\": [2519.489990234375, 2493.139892578125, 2538.070068359375, 2566.159912109375, 2579.820068359375, 2595.320068359375, 2597.820068359375, 2596.27001953125, 2589.320068359375, 2613.080078125, 2625.760009765625, 2645.06005859375, 2675.469970703125, 2657.8798828125, 2653.18994140625, 2647.199951171875, 2672.3798828125, 2644.969970703125, 2650.929931640625, 2690.43994140625, 2708.949951171875, 2716.659912109375, 2724.989990234375, 2738.97998046875, 2738.080078125, 2719.320068359375, 2708.070068359375, 2718.050048828125, 2748.18994140625, 2761.85009765625, 2757.89990234375, 2775.659912109375, 2787.330078125, 2789.8798828125, 2781.580078125, 2794.199951171875, 2813.489990234375, 2803.1201171875, 2795.760009765625, 2793.72998046875, 2808.02001953125, 2816.8798828125, 2796.43994140625, 2790.27001953125, 2767.25, 2744.1298828125, 2784.0, 2798.320068359375, 2821.239990234375, 2815.0, 2830.72998046875, 2835.409912109375, 2852.419921875, 2843.5400390625, 2860.31005859375, 2846.159912109375, 2809.7900390625, 2829.8701171875, 2825.56005859375, 2819.7099609375, 2836.030029296875, 2869.39990234375, 2872.89990234375, 2885.25, 2881.280029296875, 2893.239990234375, 2895.949951171875, 2886.8798828125, 2889.7099609375, 2893.419921875, 2910.5400390625, 2909.60009765625, 2916.06005859375, 2918.0, 2908.39990234375, 2909.510009765625, 2936.31005859375, 2936.830078125, 2933.10009765625, 2939.8798828125, 2949.52001953125, 2948.219970703125, 2954.1298828125, 2931.679931640625, 2947.85009765625, 2937.320068359375, 2913.030029296875, 2897.9599609375, 2875.969970703125, 2891.31005859375, 2840.18994140625, 2852.5400390625, 2858.679931640625, 2892.14990234375, 2885.47998046875, 2853.860107421875, 2868.8798828125, 2865.469970703125, 2836.699951171875, 2841.360107421875, 2840.510009765625, 2792.030029296875, 2799.0, 2768.97998046875, 2763.070068359375, 2804.489990234375, 2827.280029296875, 2852.10009765625, 2884.969970703125, 2904.77001953125, 2910.610107421875, 2888.570068359375, 2895.239990234375, 2894.449951171875, 2897.27001953125, 2930.7900390625, 2931.739990234375, 2958.06005859375, 2964.14990234375, 2954.919921875, 2946.52001953125, 2932.590087890625, 2929.300048828125, 2943.97998046875, 2977.929931640625, 2973.2099609375, 2995.840087890625, 2994.030029296875, 2980.760009765625, 2981.89990234375, 3002.97998046875, 3002.330078125, 3013.919921875, 3017.800048828125, 3015.02001953125, 3005.260009765625, 2998.280029296875, 3006.02001953125, 2990.7099609375, 3005.89990234375, 3019.590087890625, 3016.31005859375, 3027.97998046875, 3025.610107421875, 3017.18994140625, 3017.39990234375, 3013.590087890625, 2945.5, 2898.070068359375, 2884.39990234375, 2892.169921875, 2938.719970703125, 2935.75, 2907.580078125, 2943.31005859375, 2894.14990234375, 2856.669921875, 2893.6298828125, 2931.0, 2923.6298828125, 2928.72998046875, 2939.080078125, 2927.010009765625, 2879.27001953125, 2898.7900390625, 2890.030029296875, 2930.5, 2940.429931640625, 2914.389892578125, 2938.840087890625, 2985.860107421875, 2985.030029296875, 2989.429931640625, 2979.389892578125, 3000.929931640625, 3020.739990234375, 3017.330078125, 3002.18994140625, 3006.2099609375, 3007.830078125, 3021.989990234375, 3016.3701171875, 2999.14990234375, 3007.97998046875, 2989.820068359375, 2987.280029296875, 2987.31005859375, 2983.85009765625, 2992.530029296875, 2924.780029296875, 2911.1298828125, 2953.739990234375, 2959.75, 2925.469970703125, 2929.320068359375, 2948.4599609375, 2993.280029296875, 2972.840087890625, 3003.280029296875, 2997.5400390625, 3008.2900390625, 3000.0, 3007.330078125, 3014.570068359375, 3004.780029296875, 3016.070068359375, 3027.389892578125, 3044.080078125, 3047.8701171875, 3050.10009765625, 3046.89990234375, 3066.949951171875, 3085.199951171875, 3083.949951171875, 3078.340087890625, 3097.77001953125, 3093.090087890625, 3088.330078125, 3102.610107421875, 3098.06005859375, 3098.199951171875, 3120.4599609375, 3124.169921875, 3127.639892578125, 3118.969970703125, 3110.110107421875, 3112.8701171875, 3133.830078125, 3142.68994140625, 3154.260009765625, 3150.300048828125, 3144.31005859375, 3094.969970703125, 3119.3798828125, 3119.449951171875, 3150.60009765625, 3148.8701171875, 3142.1201171875, 3143.97998046875, 3176.280029296875, 3182.679931640625, 3197.7099609375, 3198.219970703125, 3198.47998046875, 3205.47998046875, 3225.64990234375, 3227.780029296875, 3226.429931640625], \"low\": [2467.469970703125, 2443.9599609375, 2474.330078125, 2524.56005859375, 2547.56005859375, 2568.889892578125, 2562.02001953125, 2577.39990234375, 2570.409912109375, 2585.10009765625, 2612.679931640625, 2606.360107421875, 2647.580078125, 2617.27001953125, 2612.860107421875, 2627.010009765625, 2657.330078125, 2624.06005859375, 2631.050048828125, 2648.340087890625, 2678.64990234375, 2696.8798828125, 2698.75, 2724.030029296875, 2724.14990234375, 2687.260009765625, 2681.830078125, 2703.7900390625, 2722.610107421875, 2748.6298828125, 2731.22998046875, 2760.239990234375, 2767.2900390625, 2774.06005859375, 2764.550048828125, 2779.110107421875, 2794.989990234375, 2789.469970703125, 2775.1298828125, 2782.510009765625, 2787.3798828125, 2767.659912109375, 2782.969970703125, 2768.68994140625, 2739.090087890625, 2722.27001953125, 2747.610107421875, 2786.72998046875, 2799.780029296875, 2803.4599609375, 2810.7900390625, 2821.989990234375, 2823.27001953125, 2812.429931640625, 2817.3798828125, 2800.469970703125, 2785.02001953125, 2803.989990234375, 2787.719970703125, 2798.77001953125, 2819.22998046875, 2848.6298828125, 2858.75, 2865.169921875, 2867.139892578125, 2882.989990234375, 2880.780029296875, 2873.330078125, 2879.1298828125, 2881.989990234375, 2898.3701171875, 2896.47998046875, 2900.7099609375, 2895.449951171875, 2891.89990234375, 2896.35009765625, 2908.530029296875, 2926.050048828125, 2912.840087890625, 2917.56005859375, 2939.35009765625, 2924.110107421875, 2923.360107421875, 2900.5, 2929.2099609375, 2898.2099609375, 2862.60009765625, 2873.280029296875, 2836.39990234375, 2825.389892578125, 2801.429931640625, 2820.1201171875, 2815.080078125, 2855.800048828125, 2854.22998046875, 2831.2900390625, 2854.02001953125, 2851.110107421875, 2805.489990234375, 2820.18994140625, 2801.580078125, 2766.06005859375, 2776.739990234375, 2750.52001953125, 2728.81005859375, 2762.639892578125, 2800.919921875, 2822.449951171875, 2852.8701171875, 2885.510009765625, 2878.530029296875, 2874.679931640625, 2881.989990234375, 2879.6201171875, 2887.300048828125, 2905.43994140625, 2911.429931640625, 2931.5, 2946.8701171875, 2944.050048828125, 2916.010009765625, 2912.989990234375, 2918.570068359375, 2929.050048828125, 2952.219970703125, 2955.919921875, 2977.9599609375, 2967.969970703125, 2970.090087890625, 2963.43994140625, 2984.6201171875, 2988.800048828125, 3001.8701171875, 3008.77001953125, 3001.14990234375, 2984.25, 2973.090087890625, 2975.860107421875, 2976.64990234375, 2988.56005859375, 2996.820068359375, 2997.239990234375, 3012.590087890625, 3014.300048828125, 3000.93994140625, 2958.080078125, 2945.22998046875, 2914.110107421875, 2822.1201171875, 2847.419921875, 2825.7099609375, 2894.469970703125, 2900.14990234375, 2873.139892578125, 2877.050048828125, 2839.639892578125, 2825.510009765625, 2864.739990234375, 2913.47998046875, 2899.60009765625, 2917.909912109375, 2904.510009765625, 2834.969970703125, 2856.0, 2860.590087890625, 2853.050048828125, 2905.669921875, 2913.320068359375, 2891.85009765625, 2921.860107421875, 2960.60009765625, 2972.510009765625, 2969.389892578125, 2957.010009765625, 2975.31005859375, 3000.919921875, 3002.89990234375, 2990.669921875, 2993.72998046875, 2978.570068359375, 3003.159912109375, 2984.679931640625, 2982.22998046875, 2957.72998046875, 2952.860107421875, 2963.7099609375, 2945.530029296875, 2967.070068359375, 2938.699951171875, 2874.929931640625, 2855.93994140625, 2918.56005859375, 2935.679931640625, 2892.659912109375, 2907.409912109375, 2917.1201171875, 2963.070068359375, 2962.93994140625, 2973.610107421875, 2985.199951171875, 2991.7900390625, 2976.31005859375, 2995.35009765625, 2995.0400390625, 2991.2099609375, 3000.419921875, 3001.93994140625, 3032.1201171875, 3034.81005859375, 3025.9599609375, 3023.18994140625, 3050.719970703125, 3074.8701171875, 3072.14990234375, 3065.889892578125, 3080.22998046875, 3073.580078125, 3075.820068359375, 3084.72998046875, 3078.800048828125, 3083.260009765625, 3104.60009765625, 3112.06005859375, 3113.469970703125, 3091.409912109375, 3094.550048828125, 3099.260009765625, 3117.43994140625, 3131.0, 3143.409912109375, 3139.340087890625, 3110.780029296875, 3070.330078125, 3102.530029296875, 3103.760009765625, 3134.6201171875, 3135.4599609375, 3126.090087890625, 3133.2099609375, 3138.469970703125, 3156.510009765625, 3183.6298828125, 3191.030029296875, 3191.139892578125, 3192.320068359375, 3216.030029296875, 3222.300048828125, 3220.510009765625], \"open\": [2476.9599609375, 2491.919921875, 2474.330078125, 2535.610107421875, 2568.110107421875, 2580.0, 2573.510009765625, 2588.110107421875, 2580.31005859375, 2585.10009765625, 2614.75, 2609.280029296875, 2651.27001953125, 2657.8798828125, 2643.47998046875, 2638.840087890625, 2657.43994140625, 2644.969970703125, 2644.889892578125, 2653.6201171875, 2685.489990234375, 2702.320068359375, 2706.489990234375, 2728.340087890625, 2735.050048828125, 2717.530029296875, 2692.360107421875, 2712.39990234375, 2722.610107421875, 2750.300048828125, 2743.5, 2760.239990234375, 2769.280029296875, 2779.050048828125, 2780.239990234375, 2780.669921875, 2804.35009765625, 2792.360107421875, 2787.5, 2788.110107421875, 2798.219970703125, 2814.3701171875, 2794.409912109375, 2790.27001953125, 2766.530029296875, 2730.7900390625, 2747.610107421875, 2787.340087890625, 2799.780029296875, 2810.3798828125, 2810.7900390625, 2822.610107421875, 2840.760009765625, 2831.340087890625, 2819.719970703125, 2844.52001953125, 2796.010009765625, 2812.659912109375, 2819.719970703125, 2809.39990234375, 2828.27001953125, 2848.6298828125, 2868.239990234375, 2876.090087890625, 2873.989990234375, 2884.159912109375, 2888.4599609375, 2886.580078125, 2881.3701171875, 2891.919921875, 2900.860107421875, 2908.320068359375, 2912.260009765625, 2916.0400390625, 2904.81005859375, 2898.780029296875, 2909.989990234375, 2934.0, 2928.989990234375, 2925.81005859375, 2940.580078125, 2937.139892578125, 2952.330078125, 2922.159912109375, 2929.2099609375, 2908.889892578125, 2913.030029296875, 2879.610107421875, 2859.840087890625, 2863.10009765625, 2840.18994140625, 2820.1201171875, 2820.3798828125, 2855.800048828125, 2858.60009765625, 2841.93994140625, 2854.02001953125, 2856.06005859375, 2836.699951171875, 2832.409912109375, 2830.030029296875, 2790.25, 2786.93994140625, 2766.14990234375, 2751.530029296875, 2762.639892578125, 2818.090087890625, 2828.510009765625, 2852.8701171875, 2885.830078125, 2903.27001953125, 2882.72998046875, 2886.239990234375, 2886.820068359375, 2889.75, 2906.7099609375, 2920.550048828125, 2949.60009765625, 2952.7099609375, 2951.419921875, 2945.780029296875, 2926.070068359375, 2919.659912109375, 2932.93994140625, 2971.409912109375, 2964.659912109375, 2978.080078125, 2984.25, 2979.77001953125, 2965.52001953125, 2989.300048828125, 2999.6201171875, 3003.360107421875, 3017.800048828125, 3012.1298828125, 3005.10009765625, 2978.8701171875, 3004.260009765625, 2981.929931640625, 2994.739990234375, 2998.77001953125, 3016.260009765625, 3013.25, 3024.469970703125, 3007.659912109375, 3016.219970703125, 2980.320068359375, 2943.89990234375, 2898.070068359375, 2861.179931640625, 2858.64990234375, 2896.2099609375, 2930.510009765625, 2907.070068359375, 2880.719970703125, 2894.14990234375, 2846.199951171875, 2864.739990234375, 2913.47998046875, 2919.010009765625, 2922.0400390625, 2930.93994140625, 2911.070068359375, 2866.699951171875, 2893.139892578125, 2861.280029296875, 2910.3701171875, 2937.090087890625, 2909.010009765625, 2924.669921875, 2960.60009765625, 2980.330078125, 2988.429931640625, 2971.010009765625, 2981.409912109375, 3009.080078125, 3012.2099609375, 2996.409912109375, 2995.669921875, 3001.5, 3010.360107421875, 3008.419921875, 2983.5, 3002.429931640625, 2968.35009765625, 2985.72998046875, 2985.469970703125, 2967.070068359375, 2983.68994140625, 2924.780029296875, 2885.3798828125, 2918.56005859375, 2944.22998046875, 2920.39990234375, 2911.10009765625, 2918.550048828125, 2963.070068359375, 2965.81005859375, 2973.610107421875, 2989.679931640625, 3000.77001953125, 2996.840087890625, 2996.47998046875, 3010.72998046875, 2994.010009765625, 3014.780029296875, 3003.320068359375, 3032.1201171875, 3035.389892578125, 3039.739990234375, 3046.89990234375, 3050.719970703125, 3078.9599609375, 3080.800048828125, 3075.10009765625, 3087.02001953125, 3081.25, 3080.330078125, 3089.280029296875, 3084.179931640625, 3090.75, 3107.919921875, 3117.909912109375, 3127.449951171875, 3114.659912109375, 3108.489990234375, 3111.409912109375, 3117.43994140625, 3134.85009765625, 3145.489990234375, 3147.179931640625, 3143.85009765625, 3087.409912109375, 3103.5, 3119.2099609375, 3134.6201171875, 3141.860107421875, 3135.360107421875, 3135.75, 3141.22998046875, 3166.64990234375, 3183.6298828125, 3195.39990234375, 3195.2099609375, 3192.320068359375, 3223.330078125, 3226.050048828125, 3225.449951171875], \"type\": \"ohlc\", \"x\": [\"2019-01-02T00:00:00\", \"2019-01-03T00:00:00\", \"2019-01-04T00:00:00\", \"2019-01-07T00:00:00\", \"2019-01-08T00:00:00\", \"2019-01-09T00:00:00\", \"2019-01-10T00:00:00\", \"2019-01-11T00:00:00\", \"2019-01-14T00:00:00\", \"2019-01-15T00:00:00\", \"2019-01-16T00:00:00\", \"2019-01-17T00:00:00\", \"2019-01-18T00:00:00\", \"2019-01-22T00:00:00\", \"2019-01-23T00:00:00\", \"2019-01-24T00:00:00\", \"2019-01-25T00:00:00\", \"2019-01-28T00:00:00\", \"2019-01-29T00:00:00\", \"2019-01-30T00:00:00\", \"2019-01-31T00:00:00\", \"2019-02-01T00:00:00\", \"2019-02-04T00:00:00\", \"2019-02-05T00:00:00\", \"2019-02-06T00:00:00\", \"2019-02-07T00:00:00\", \"2019-02-08T00:00:00\", \"2019-02-11T00:00:00\", \"2019-02-12T00:00:00\", \"2019-02-13T00:00:00\", \"2019-02-14T00:00:00\", \"2019-02-15T00:00:00\", \"2019-02-19T00:00:00\", \"2019-02-20T00:00:00\", \"2019-02-21T00:00:00\", \"2019-02-22T00:00:00\", \"2019-02-25T00:00:00\", \"2019-02-26T00:00:00\", \"2019-02-27T00:00:00\", \"2019-02-28T00:00:00\", \"2019-03-01T00:00:00\", \"2019-03-04T00:00:00\", \"2019-03-05T00:00:00\", \"2019-03-06T00:00:00\", \"2019-03-07T00:00:00\", \"2019-03-08T00:00:00\", \"2019-03-11T00:00:00\", \"2019-03-12T00:00:00\", \"2019-03-13T00:00:00\", \"2019-03-14T00:00:00\", \"2019-03-15T00:00:00\", \"2019-03-18T00:00:00\", \"2019-03-19T00:00:00\", \"2019-03-20T00:00:00\", \"2019-03-21T00:00:00\", \"2019-03-22T00:00:00\", \"2019-03-25T00:00:00\", \"2019-03-26T00:00:00\", \"2019-03-27T00:00:00\", \"2019-03-28T00:00:00\", \"2019-03-29T00:00:00\", \"2019-04-01T00:00:00\", \"2019-04-02T00:00:00\", \"2019-04-03T00:00:00\", \"2019-04-04T00:00:00\", \"2019-04-05T00:00:00\", \"2019-04-08T00:00:00\", \"2019-04-09T00:00:00\", \"2019-04-10T00:00:00\", \"2019-04-11T00:00:00\", \"2019-04-12T00:00:00\", \"2019-04-15T00:00:00\", \"2019-04-16T00:00:00\", \"2019-04-17T00:00:00\", \"2019-04-18T00:00:00\", \"2019-04-22T00:00:00\", \"2019-04-23T00:00:00\", \"2019-04-24T00:00:00\", \"2019-04-25T00:00:00\", \"2019-04-26T00:00:00\", \"2019-04-29T00:00:00\", \"2019-04-30T00:00:00\", \"2019-05-01T00:00:00\", \"2019-05-02T00:00:00\", \"2019-05-03T00:00:00\", \"2019-05-06T00:00:00\", \"2019-05-07T00:00:00\", \"2019-05-08T00:00:00\", \"2019-05-09T00:00:00\", \"2019-05-10T00:00:00\", \"2019-05-13T00:00:00\", \"2019-05-14T00:00:00\", \"2019-05-15T00:00:00\", \"2019-05-16T00:00:00\", \"2019-05-17T00:00:00\", \"2019-05-20T00:00:00\", \"2019-05-21T00:00:00\", \"2019-05-22T00:00:00\", \"2019-05-23T00:00:00\", \"2019-05-24T00:00:00\", \"2019-05-28T00:00:00\", \"2019-05-29T00:00:00\", \"2019-05-30T00:00:00\", \"2019-05-31T00:00:00\", \"2019-06-03T00:00:00\", \"2019-06-04T00:00:00\", \"2019-06-05T00:00:00\", \"2019-06-06T00:00:00\", \"2019-06-07T00:00:00\", \"2019-06-10T00:00:00\", \"2019-06-11T00:00:00\", \"2019-06-12T00:00:00\", \"2019-06-13T00:00:00\", \"2019-06-14T00:00:00\", \"2019-06-17T00:00:00\", \"2019-06-18T00:00:00\", \"2019-06-19T00:00:00\", \"2019-06-20T00:00:00\", \"2019-06-21T00:00:00\", \"2019-06-24T00:00:00\", \"2019-06-25T00:00:00\", \"2019-06-26T00:00:00\", \"2019-06-27T00:00:00\", \"2019-06-28T00:00:00\", \"2019-07-01T00:00:00\", \"2019-07-02T00:00:00\", \"2019-07-03T00:00:00\", \"2019-07-05T00:00:00\", \"2019-07-08T00:00:00\", \"2019-07-09T00:00:00\", \"2019-07-10T00:00:00\", \"2019-07-11T00:00:00\", \"2019-07-12T00:00:00\", \"2019-07-15T00:00:00\", \"2019-07-16T00:00:00\", \"2019-07-17T00:00:00\", \"2019-07-18T00:00:00\", \"2019-07-19T00:00:00\", \"2019-07-22T00:00:00\", \"2019-07-23T00:00:00\", \"2019-07-24T00:00:00\", \"2019-07-25T00:00:00\", \"2019-07-26T00:00:00\", \"2019-07-29T00:00:00\", \"2019-07-30T00:00:00\", \"2019-07-31T00:00:00\", \"2019-08-01T00:00:00\", \"2019-08-02T00:00:00\", \"2019-08-05T00:00:00\", \"2019-08-06T00:00:00\", \"2019-08-07T00:00:00\", \"2019-08-08T00:00:00\", \"2019-08-09T00:00:00\", \"2019-08-12T00:00:00\", \"2019-08-13T00:00:00\", \"2019-08-14T00:00:00\", \"2019-08-15T00:00:00\", \"2019-08-16T00:00:00\", \"2019-08-19T00:00:00\", \"2019-08-20T00:00:00\", \"2019-08-21T00:00:00\", \"2019-08-22T00:00:00\", \"2019-08-23T00:00:00\", \"2019-08-26T00:00:00\", \"2019-08-27T00:00:00\", \"2019-08-28T00:00:00\", \"2019-08-29T00:00:00\", \"2019-08-30T00:00:00\", \"2019-09-03T00:00:00\", \"2019-09-04T00:00:00\", \"2019-09-05T00:00:00\", \"2019-09-06T00:00:00\", \"2019-09-09T00:00:00\", \"2019-09-10T00:00:00\", \"2019-09-11T00:00:00\", \"2019-09-12T00:00:00\", \"2019-09-13T00:00:00\", \"2019-09-16T00:00:00\", \"2019-09-17T00:00:00\", \"2019-09-18T00:00:00\", \"2019-09-19T00:00:00\", \"2019-09-20T00:00:00\", \"2019-09-23T00:00:00\", \"2019-09-24T00:00:00\", \"2019-09-25T00:00:00\", \"2019-09-26T00:00:00\", \"2019-09-27T00:00:00\", \"2019-09-30T00:00:00\", \"2019-10-01T00:00:00\", \"2019-10-02T00:00:00\", \"2019-10-03T00:00:00\", \"2019-10-04T00:00:00\", \"2019-10-07T00:00:00\", \"2019-10-08T00:00:00\", \"2019-10-09T00:00:00\", \"2019-10-10T00:00:00\", \"2019-10-11T00:00:00\", \"2019-10-14T00:00:00\", \"2019-10-15T00:00:00\", \"2019-10-16T00:00:00\", \"2019-10-17T00:00:00\", \"2019-10-18T00:00:00\", \"2019-10-21T00:00:00\", \"2019-10-22T00:00:00\", \"2019-10-23T00:00:00\", \"2019-10-24T00:00:00\", \"2019-10-25T00:00:00\", \"2019-10-28T00:00:00\", \"2019-10-29T00:00:00\", \"2019-10-30T00:00:00\", \"2019-10-31T00:00:00\", \"2019-11-01T00:00:00\", \"2019-11-04T00:00:00\", \"2019-11-05T00:00:00\", \"2019-11-06T00:00:00\", \"2019-11-07T00:00:00\", \"2019-11-08T00:00:00\", \"2019-11-11T00:00:00\", \"2019-11-12T00:00:00\", \"2019-11-13T00:00:00\", \"2019-11-14T00:00:00\", \"2019-11-15T00:00:00\", \"2019-11-18T00:00:00\", \"2019-11-19T00:00:00\", \"2019-11-20T00:00:00\", \"2019-11-21T00:00:00\", \"2019-11-22T00:00:00\", \"2019-11-25T00:00:00\", \"2019-11-26T00:00:00\", \"2019-11-27T00:00:00\", \"2019-11-29T00:00:00\", \"2019-12-02T00:00:00\", \"2019-12-03T00:00:00\", \"2019-12-04T00:00:00\", \"2019-12-05T00:00:00\", \"2019-12-06T00:00:00\", \"2019-12-09T00:00:00\", \"2019-12-10T00:00:00\", \"2019-12-11T00:00:00\", \"2019-12-12T00:00:00\", \"2019-12-13T00:00:00\", \"2019-12-16T00:00:00\", \"2019-12-17T00:00:00\", \"2019-12-18T00:00:00\", \"2019-12-19T00:00:00\", \"2019-12-20T00:00:00\", \"2019-12-23T00:00:00\", \"2019-12-24T00:00:00\"]}],\n",
       "                        {\"template\": {\"data\": {\"bar\": [{\"error_x\": {\"color\": \"#2a3f5f\"}, \"error_y\": {\"color\": \"#2a3f5f\"}, \"marker\": {\"line\": {\"color\": \"#E5ECF6\", \"width\": 0.5}}, \"type\": \"bar\"}], \"barpolar\": [{\"marker\": {\"line\": {\"color\": \"#E5ECF6\", \"width\": 0.5}}, \"type\": \"barpolar\"}], \"carpet\": [{\"aaxis\": {\"endlinecolor\": \"#2a3f5f\", \"gridcolor\": \"white\", \"linecolor\": \"white\", \"minorgridcolor\": \"white\", \"startlinecolor\": \"#2a3f5f\"}, \"baxis\": {\"endlinecolor\": \"#2a3f5f\", \"gridcolor\": \"white\", \"linecolor\": \"white\", \"minorgridcolor\": \"white\", \"startlinecolor\": \"#2a3f5f\"}, \"type\": \"carpet\"}], \"choropleth\": [{\"colorbar\": {\"outlinewidth\": 0, \"ticks\": \"\"}, \"type\": \"choropleth\"}], \"contour\": [{\"colorbar\": {\"outlinewidth\": 0, \"ticks\": \"\"}, \"colorscale\": [[0.0, \"#0d0887\"], [0.1111111111111111, \"#46039f\"], [0.2222222222222222, \"#7201a8\"], [0.3333333333333333, \"#9c179e\"], [0.4444444444444444, \"#bd3786\"], [0.5555555555555556, \"#d8576b\"], [0.6666666666666666, \"#ed7953\"], [0.7777777777777778, \"#fb9f3a\"], [0.8888888888888888, \"#fdca26\"], [1.0, \"#f0f921\"]], \"type\": \"contour\"}], \"contourcarpet\": [{\"colorbar\": {\"outlinewidth\": 0, \"ticks\": \"\"}, \"type\": \"contourcarpet\"}], \"heatmap\": [{\"colorbar\": {\"outlinewidth\": 0, \"ticks\": \"\"}, \"colorscale\": [[0.0, \"#0d0887\"], [0.1111111111111111, \"#46039f\"], [0.2222222222222222, \"#7201a8\"], [0.3333333333333333, \"#9c179e\"], [0.4444444444444444, \"#bd3786\"], [0.5555555555555556, \"#d8576b\"], [0.6666666666666666, \"#ed7953\"], [0.7777777777777778, \"#fb9f3a\"], [0.8888888888888888, \"#fdca26\"], [1.0, \"#f0f921\"]], \"type\": \"heatmap\"}], \"heatmapgl\": [{\"colorbar\": {\"outlinewidth\": 0, \"ticks\": \"\"}, \"colorscale\": [[0.0, \"#0d0887\"], [0.1111111111111111, \"#46039f\"], [0.2222222222222222, \"#7201a8\"], [0.3333333333333333, \"#9c179e\"], [0.4444444444444444, \"#bd3786\"], [0.5555555555555556, \"#d8576b\"], [0.6666666666666666, \"#ed7953\"], [0.7777777777777778, \"#fb9f3a\"], [0.8888888888888888, \"#fdca26\"], [1.0, \"#f0f921\"]], \"type\": \"heatmapgl\"}], \"histogram\": [{\"marker\": {\"colorbar\": {\"outlinewidth\": 0, \"ticks\": \"\"}}, \"type\": \"histogram\"}], \"histogram2d\": [{\"colorbar\": {\"outlinewidth\": 0, \"ticks\": \"\"}, \"colorscale\": [[0.0, \"#0d0887\"], [0.1111111111111111, \"#46039f\"], [0.2222222222222222, \"#7201a8\"], [0.3333333333333333, \"#9c179e\"], [0.4444444444444444, \"#bd3786\"], [0.5555555555555556, \"#d8576b\"], [0.6666666666666666, \"#ed7953\"], [0.7777777777777778, \"#fb9f3a\"], [0.8888888888888888, \"#fdca26\"], [1.0, \"#f0f921\"]], \"type\": \"histogram2d\"}], \"histogram2dcontour\": [{\"colorbar\": {\"outlinewidth\": 0, \"ticks\": \"\"}, \"colorscale\": [[0.0, \"#0d0887\"], [0.1111111111111111, \"#46039f\"], [0.2222222222222222, \"#7201a8\"], [0.3333333333333333, \"#9c179e\"], [0.4444444444444444, \"#bd3786\"], [0.5555555555555556, \"#d8576b\"], [0.6666666666666666, \"#ed7953\"], [0.7777777777777778, \"#fb9f3a\"], [0.8888888888888888, \"#fdca26\"], [1.0, \"#f0f921\"]], \"type\": \"histogram2dcontour\"}], \"mesh3d\": [{\"colorbar\": {\"outlinewidth\": 0, \"ticks\": \"\"}, \"type\": \"mesh3d\"}], \"parcoords\": [{\"line\": {\"colorbar\": {\"outlinewidth\": 0, \"ticks\": \"\"}}, \"type\": \"parcoords\"}], \"pie\": [{\"automargin\": true, \"type\": \"pie\"}], \"scatter\": [{\"marker\": {\"colorbar\": {\"outlinewidth\": 0, \"ticks\": \"\"}}, \"type\": \"scatter\"}], \"scatter3d\": [{\"line\": {\"colorbar\": {\"outlinewidth\": 0, \"ticks\": \"\"}}, \"marker\": {\"colorbar\": {\"outlinewidth\": 0, \"ticks\": \"\"}}, \"type\": \"scatter3d\"}], \"scattercarpet\": [{\"marker\": {\"colorbar\": {\"outlinewidth\": 0, \"ticks\": \"\"}}, \"type\": \"scattercarpet\"}], \"scattergeo\": [{\"marker\": {\"colorbar\": {\"outlinewidth\": 0, \"ticks\": \"\"}}, \"type\": \"scattergeo\"}], \"scattergl\": [{\"marker\": {\"colorbar\": {\"outlinewidth\": 0, \"ticks\": \"\"}}, \"type\": \"scattergl\"}], \"scattermapbox\": [{\"marker\": {\"colorbar\": {\"outlinewidth\": 0, \"ticks\": \"\"}}, \"type\": \"scattermapbox\"}], \"scatterpolar\": [{\"marker\": {\"colorbar\": {\"outlinewidth\": 0, \"ticks\": \"\"}}, \"type\": \"scatterpolar\"}], \"scatterpolargl\": [{\"marker\": {\"colorbar\": {\"outlinewidth\": 0, \"ticks\": \"\"}}, \"type\": \"scatterpolargl\"}], \"scatterternary\": [{\"marker\": {\"colorbar\": {\"outlinewidth\": 0, \"ticks\": \"\"}}, \"type\": \"scatterternary\"}], \"surface\": [{\"colorbar\": {\"outlinewidth\": 0, \"ticks\": \"\"}, \"colorscale\": [[0.0, \"#0d0887\"], [0.1111111111111111, \"#46039f\"], [0.2222222222222222, \"#7201a8\"], [0.3333333333333333, \"#9c179e\"], [0.4444444444444444, \"#bd3786\"], [0.5555555555555556, \"#d8576b\"], [0.6666666666666666, \"#ed7953\"], [0.7777777777777778, \"#fb9f3a\"], [0.8888888888888888, \"#fdca26\"], [1.0, \"#f0f921\"]], \"type\": \"surface\"}], \"table\": [{\"cells\": {\"fill\": {\"color\": \"#EBF0F8\"}, \"line\": {\"color\": \"white\"}}, \"header\": {\"fill\": {\"color\": \"#C8D4E3\"}, \"line\": {\"color\": \"white\"}}, \"type\": \"table\"}]}, \"layout\": {\"annotationdefaults\": {\"arrowcolor\": \"#2a3f5f\", \"arrowhead\": 0, \"arrowwidth\": 1}, \"coloraxis\": {\"colorbar\": {\"outlinewidth\": 0, \"ticks\": \"\"}}, \"colorscale\": {\"diverging\": [[0, \"#8e0152\"], [0.1, \"#c51b7d\"], [0.2, \"#de77ae\"], [0.3, \"#f1b6da\"], [0.4, \"#fde0ef\"], [0.5, \"#f7f7f7\"], [0.6, \"#e6f5d0\"], [0.7, \"#b8e186\"], [0.8, \"#7fbc41\"], [0.9, \"#4d9221\"], [1, \"#276419\"]], \"sequential\": [[0.0, \"#0d0887\"], [0.1111111111111111, \"#46039f\"], [0.2222222222222222, \"#7201a8\"], [0.3333333333333333, \"#9c179e\"], [0.4444444444444444, \"#bd3786\"], [0.5555555555555556, \"#d8576b\"], [0.6666666666666666, \"#ed7953\"], [0.7777777777777778, \"#fb9f3a\"], [0.8888888888888888, \"#fdca26\"], [1.0, \"#f0f921\"]], \"sequentialminus\": [[0.0, \"#0d0887\"], [0.1111111111111111, \"#46039f\"], [0.2222222222222222, \"#7201a8\"], [0.3333333333333333, \"#9c179e\"], [0.4444444444444444, \"#bd3786\"], [0.5555555555555556, \"#d8576b\"], [0.6666666666666666, \"#ed7953\"], [0.7777777777777778, \"#fb9f3a\"], [0.8888888888888888, \"#fdca26\"], [1.0, \"#f0f921\"]]}, \"colorway\": [\"#636efa\", \"#EF553B\", \"#00cc96\", \"#ab63fa\", \"#FFA15A\", \"#19d3f3\", \"#FF6692\", \"#B6E880\", \"#FF97FF\", \"#FECB52\"], \"font\": {\"color\": \"#2a3f5f\"}, \"geo\": {\"bgcolor\": \"white\", \"lakecolor\": \"white\", \"landcolor\": \"#E5ECF6\", \"showlakes\": true, \"showland\": true, \"subunitcolor\": \"white\"}, \"hoverlabel\": {\"align\": \"left\"}, \"hovermode\": \"closest\", \"mapbox\": {\"style\": \"light\"}, \"paper_bgcolor\": \"white\", \"plot_bgcolor\": \"#E5ECF6\", \"polar\": {\"angularaxis\": {\"gridcolor\": \"white\", \"linecolor\": \"white\", \"ticks\": \"\"}, \"bgcolor\": \"#E5ECF6\", \"radialaxis\": {\"gridcolor\": \"white\", \"linecolor\": \"white\", \"ticks\": \"\"}}, \"scene\": {\"xaxis\": {\"backgroundcolor\": \"#E5ECF6\", \"gridcolor\": \"white\", \"gridwidth\": 2, \"linecolor\": \"white\", \"showbackground\": true, \"ticks\": \"\", \"zerolinecolor\": \"white\"}, \"yaxis\": {\"backgroundcolor\": \"#E5ECF6\", \"gridcolor\": \"white\", \"gridwidth\": 2, \"linecolor\": \"white\", \"showbackground\": true, \"ticks\": \"\", \"zerolinecolor\": \"white\"}, \"zaxis\": {\"backgroundcolor\": \"#E5ECF6\", \"gridcolor\": \"white\", \"gridwidth\": 2, \"linecolor\": \"white\", \"showbackground\": true, \"ticks\": \"\", \"zerolinecolor\": \"white\"}}, \"shapedefaults\": {\"line\": {\"color\": \"#2a3f5f\"}}, \"ternary\": {\"aaxis\": {\"gridcolor\": \"white\", \"linecolor\": \"white\", \"ticks\": \"\"}, \"baxis\": {\"gridcolor\": \"white\", \"linecolor\": \"white\", \"ticks\": \"\"}, \"bgcolor\": \"#E5ECF6\", \"caxis\": {\"gridcolor\": \"white\", \"linecolor\": \"white\", \"ticks\": \"\"}}, \"title\": {\"x\": 0.05}, \"xaxis\": {\"automargin\": true, \"gridcolor\": \"white\", \"linecolor\": \"white\", \"ticks\": \"\", \"title\": {\"standoff\": 15}, \"zerolinecolor\": \"white\", \"zerolinewidth\": 2}, \"yaxis\": {\"automargin\": true, \"gridcolor\": \"white\", \"linecolor\": \"white\", \"ticks\": \"\", \"title\": {\"standoff\": 15}, \"zerolinecolor\": \"white\", \"zerolinewidth\": 2}}}},\n",
       "                        {\"responsive\": true}\n",
       "                    ).then(function(){\n",
       "                            \n",
       "var gd = document.getElementById('bafd307f-4bf2-40bb-bddd-efe1a85aeb75');\n",
       "var x = new MutationObserver(function (mutations, observer) {{\n",
       "        var display = window.getComputedStyle(gd).display;\n",
       "        if (!display || display === 'none') {{\n",
       "            console.log([gd, 'removed!']);\n",
       "            Plotly.purge(gd);\n",
       "            observer.disconnect();\n",
       "        }}\n",
       "}});\n",
       "\n",
       "// Listen for the removal of the full notebook cells\n",
       "var notebookContainer = gd.closest('#notebook-container');\n",
       "if (notebookContainer) {{\n",
       "    x.observe(notebookContainer, {childList: true});\n",
       "}}\n",
       "\n",
       "// Listen for the clearing of the current output cell\n",
       "var outputEl = gd.closest('.output');\n",
       "if (outputEl) {{\n",
       "    x.observe(outputEl, {childList: true});\n",
       "}}\n",
       "\n",
       "                        })\n",
       "                };\n",
       "                });\n",
       "            </script>\n",
       "        </div>"
      ]
     },
     "metadata": {},
     "output_type": "display_data"
    }
   ],
   "source": [
    "# OHLC chart of 2019\n",
    "trace = go.Ohlc(x=SP['2019'].index,\n",
    "                open=SP['2019'].Open,\n",
    "                high=SP['2019'].High,\n",
    "                low=SP['2019'].Low,\n",
    "                close=SP['2019'].Close)\n",
    "data = [trace]\n",
    "iplot(data, filename='simple_ohlc')"
   ]
  },
  {
   "cell_type": "markdown",
   "metadata": {},
   "source": [
    "Candlestick\n",
    "$x=\\frac{1}{1+x^2}$"
   ]
  },
  {
   "cell_type": "code",
   "execution_count": 74,
   "metadata": {
    "scrolled": true
   },
   "outputs": [
    {
     "data": {
      "application/vnd.plotly.v1+json": {
       "config": {
        "linkText": "Export to plot.ly",
        "plotlyServerURL": "https://plot.ly",
        "showLink": false
       },
       "data": [
        {
         "close": [
          3113.8701171875,
          3093.199951171875,
          3112.760009765625,
          3117.429931640625,
          3145.909912109375,
          3135.9599609375,
          3132.52001953125,
          3141.6298828125,
          3168.570068359375,
          3168.800048828125,
          3191.449951171875,
          3192.52001953125,
          3191.139892578125,
          3205.3701171875,
          3221.219970703125,
          3224.010009765625,
          3223.3798828125
         ],
         "high": [
          3144.31005859375,
          3094.969970703125,
          3119.3798828125,
          3119.449951171875,
          3150.60009765625,
          3148.8701171875,
          3142.1201171875,
          3143.97998046875,
          3176.280029296875,
          3182.679931640625,
          3197.7099609375,
          3198.219970703125,
          3198.47998046875,
          3205.47998046875,
          3225.64990234375,
          3227.780029296875,
          3226.429931640625
         ],
         "low": [
          3110.780029296875,
          3070.330078125,
          3102.530029296875,
          3103.760009765625,
          3134.6201171875,
          3135.4599609375,
          3126.090087890625,
          3133.2099609375,
          3138.469970703125,
          3156.510009765625,
          3183.6298828125,
          3191.030029296875,
          3191.139892578125,
          3192.320068359375,
          3216.030029296875,
          3222.300048828125,
          3220.510009765625
         ],
         "open": [
          3143.85009765625,
          3087.409912109375,
          3103.5,
          3119.2099609375,
          3134.6201171875,
          3141.860107421875,
          3135.360107421875,
          3135.75,
          3141.22998046875,
          3166.64990234375,
          3183.6298828125,
          3195.39990234375,
          3195.2099609375,
          3192.320068359375,
          3223.330078125,
          3226.050048828125,
          3225.449951171875
         ],
         "type": "candlestick",
         "x": [
          "2019-12-02T00:00:00",
          "2019-12-03T00:00:00",
          "2019-12-04T00:00:00",
          "2019-12-05T00:00:00",
          "2019-12-06T00:00:00",
          "2019-12-09T00:00:00",
          "2019-12-10T00:00:00",
          "2019-12-11T00:00:00",
          "2019-12-12T00:00:00",
          "2019-12-13T00:00:00",
          "2019-12-16T00:00:00",
          "2019-12-17T00:00:00",
          "2019-12-18T00:00:00",
          "2019-12-19T00:00:00",
          "2019-12-20T00:00:00",
          "2019-12-23T00:00:00",
          "2019-12-24T00:00:00"
         ]
        }
       ],
       "layout": {
        "template": {
         "data": {
          "bar": [
           {
            "error_x": {
             "color": "#2a3f5f"
            },
            "error_y": {
             "color": "#2a3f5f"
            },
            "marker": {
             "line": {
              "color": "#E5ECF6",
              "width": 0.5
             }
            },
            "type": "bar"
           }
          ],
          "barpolar": [
           {
            "marker": {
             "line": {
              "color": "#E5ECF6",
              "width": 0.5
             }
            },
            "type": "barpolar"
           }
          ],
          "carpet": [
           {
            "aaxis": {
             "endlinecolor": "#2a3f5f",
             "gridcolor": "white",
             "linecolor": "white",
             "minorgridcolor": "white",
             "startlinecolor": "#2a3f5f"
            },
            "baxis": {
             "endlinecolor": "#2a3f5f",
             "gridcolor": "white",
             "linecolor": "white",
             "minorgridcolor": "white",
             "startlinecolor": "#2a3f5f"
            },
            "type": "carpet"
           }
          ],
          "choropleth": [
           {
            "colorbar": {
             "outlinewidth": 0,
             "ticks": ""
            },
            "type": "choropleth"
           }
          ],
          "contour": [
           {
            "colorbar": {
             "outlinewidth": 0,
             "ticks": ""
            },
            "colorscale": [
             [
              0,
              "#0d0887"
             ],
             [
              0.1111111111111111,
              "#46039f"
             ],
             [
              0.2222222222222222,
              "#7201a8"
             ],
             [
              0.3333333333333333,
              "#9c179e"
             ],
             [
              0.4444444444444444,
              "#bd3786"
             ],
             [
              0.5555555555555556,
              "#d8576b"
             ],
             [
              0.6666666666666666,
              "#ed7953"
             ],
             [
              0.7777777777777778,
              "#fb9f3a"
             ],
             [
              0.8888888888888888,
              "#fdca26"
             ],
             [
              1,
              "#f0f921"
             ]
            ],
            "type": "contour"
           }
          ],
          "contourcarpet": [
           {
            "colorbar": {
             "outlinewidth": 0,
             "ticks": ""
            },
            "type": "contourcarpet"
           }
          ],
          "heatmap": [
           {
            "colorbar": {
             "outlinewidth": 0,
             "ticks": ""
            },
            "colorscale": [
             [
              0,
              "#0d0887"
             ],
             [
              0.1111111111111111,
              "#46039f"
             ],
             [
              0.2222222222222222,
              "#7201a8"
             ],
             [
              0.3333333333333333,
              "#9c179e"
             ],
             [
              0.4444444444444444,
              "#bd3786"
             ],
             [
              0.5555555555555556,
              "#d8576b"
             ],
             [
              0.6666666666666666,
              "#ed7953"
             ],
             [
              0.7777777777777778,
              "#fb9f3a"
             ],
             [
              0.8888888888888888,
              "#fdca26"
             ],
             [
              1,
              "#f0f921"
             ]
            ],
            "type": "heatmap"
           }
          ],
          "heatmapgl": [
           {
            "colorbar": {
             "outlinewidth": 0,
             "ticks": ""
            },
            "colorscale": [
             [
              0,
              "#0d0887"
             ],
             [
              0.1111111111111111,
              "#46039f"
             ],
             [
              0.2222222222222222,
              "#7201a8"
             ],
             [
              0.3333333333333333,
              "#9c179e"
             ],
             [
              0.4444444444444444,
              "#bd3786"
             ],
             [
              0.5555555555555556,
              "#d8576b"
             ],
             [
              0.6666666666666666,
              "#ed7953"
             ],
             [
              0.7777777777777778,
              "#fb9f3a"
             ],
             [
              0.8888888888888888,
              "#fdca26"
             ],
             [
              1,
              "#f0f921"
             ]
            ],
            "type": "heatmapgl"
           }
          ],
          "histogram": [
           {
            "marker": {
             "colorbar": {
              "outlinewidth": 0,
              "ticks": ""
             }
            },
            "type": "histogram"
           }
          ],
          "histogram2d": [
           {
            "colorbar": {
             "outlinewidth": 0,
             "ticks": ""
            },
            "colorscale": [
             [
              0,
              "#0d0887"
             ],
             [
              0.1111111111111111,
              "#46039f"
             ],
             [
              0.2222222222222222,
              "#7201a8"
             ],
             [
              0.3333333333333333,
              "#9c179e"
             ],
             [
              0.4444444444444444,
              "#bd3786"
             ],
             [
              0.5555555555555556,
              "#d8576b"
             ],
             [
              0.6666666666666666,
              "#ed7953"
             ],
             [
              0.7777777777777778,
              "#fb9f3a"
             ],
             [
              0.8888888888888888,
              "#fdca26"
             ],
             [
              1,
              "#f0f921"
             ]
            ],
            "type": "histogram2d"
           }
          ],
          "histogram2dcontour": [
           {
            "colorbar": {
             "outlinewidth": 0,
             "ticks": ""
            },
            "colorscale": [
             [
              0,
              "#0d0887"
             ],
             [
              0.1111111111111111,
              "#46039f"
             ],
             [
              0.2222222222222222,
              "#7201a8"
             ],
             [
              0.3333333333333333,
              "#9c179e"
             ],
             [
              0.4444444444444444,
              "#bd3786"
             ],
             [
              0.5555555555555556,
              "#d8576b"
             ],
             [
              0.6666666666666666,
              "#ed7953"
             ],
             [
              0.7777777777777778,
              "#fb9f3a"
             ],
             [
              0.8888888888888888,
              "#fdca26"
             ],
             [
              1,
              "#f0f921"
             ]
            ],
            "type": "histogram2dcontour"
           }
          ],
          "mesh3d": [
           {
            "colorbar": {
             "outlinewidth": 0,
             "ticks": ""
            },
            "type": "mesh3d"
           }
          ],
          "parcoords": [
           {
            "line": {
             "colorbar": {
              "outlinewidth": 0,
              "ticks": ""
             }
            },
            "type": "parcoords"
           }
          ],
          "pie": [
           {
            "automargin": true,
            "type": "pie"
           }
          ],
          "scatter": [
           {
            "marker": {
             "colorbar": {
              "outlinewidth": 0,
              "ticks": ""
             }
            },
            "type": "scatter"
           }
          ],
          "scatter3d": [
           {
            "line": {
             "colorbar": {
              "outlinewidth": 0,
              "ticks": ""
             }
            },
            "marker": {
             "colorbar": {
              "outlinewidth": 0,
              "ticks": ""
             }
            },
            "type": "scatter3d"
           }
          ],
          "scattercarpet": [
           {
            "marker": {
             "colorbar": {
              "outlinewidth": 0,
              "ticks": ""
             }
            },
            "type": "scattercarpet"
           }
          ],
          "scattergeo": [
           {
            "marker": {
             "colorbar": {
              "outlinewidth": 0,
              "ticks": ""
             }
            },
            "type": "scattergeo"
           }
          ],
          "scattergl": [
           {
            "marker": {
             "colorbar": {
              "outlinewidth": 0,
              "ticks": ""
             }
            },
            "type": "scattergl"
           }
          ],
          "scattermapbox": [
           {
            "marker": {
             "colorbar": {
              "outlinewidth": 0,
              "ticks": ""
             }
            },
            "type": "scattermapbox"
           }
          ],
          "scatterpolar": [
           {
            "marker": {
             "colorbar": {
              "outlinewidth": 0,
              "ticks": ""
             }
            },
            "type": "scatterpolar"
           }
          ],
          "scatterpolargl": [
           {
            "marker": {
             "colorbar": {
              "outlinewidth": 0,
              "ticks": ""
             }
            },
            "type": "scatterpolargl"
           }
          ],
          "scatterternary": [
           {
            "marker": {
             "colorbar": {
              "outlinewidth": 0,
              "ticks": ""
             }
            },
            "type": "scatterternary"
           }
          ],
          "surface": [
           {
            "colorbar": {
             "outlinewidth": 0,
             "ticks": ""
            },
            "colorscale": [
             [
              0,
              "#0d0887"
             ],
             [
              0.1111111111111111,
              "#46039f"
             ],
             [
              0.2222222222222222,
              "#7201a8"
             ],
             [
              0.3333333333333333,
              "#9c179e"
             ],
             [
              0.4444444444444444,
              "#bd3786"
             ],
             [
              0.5555555555555556,
              "#d8576b"
             ],
             [
              0.6666666666666666,
              "#ed7953"
             ],
             [
              0.7777777777777778,
              "#fb9f3a"
             ],
             [
              0.8888888888888888,
              "#fdca26"
             ],
             [
              1,
              "#f0f921"
             ]
            ],
            "type": "surface"
           }
          ],
          "table": [
           {
            "cells": {
             "fill": {
              "color": "#EBF0F8"
             },
             "line": {
              "color": "white"
             }
            },
            "header": {
             "fill": {
              "color": "#C8D4E3"
             },
             "line": {
              "color": "white"
             }
            },
            "type": "table"
           }
          ]
         },
         "layout": {
          "annotationdefaults": {
           "arrowcolor": "#2a3f5f",
           "arrowhead": 0,
           "arrowwidth": 1
          },
          "coloraxis": {
           "colorbar": {
            "outlinewidth": 0,
            "ticks": ""
           }
          },
          "colorscale": {
           "diverging": [
            [
             0,
             "#8e0152"
            ],
            [
             0.1,
             "#c51b7d"
            ],
            [
             0.2,
             "#de77ae"
            ],
            [
             0.3,
             "#f1b6da"
            ],
            [
             0.4,
             "#fde0ef"
            ],
            [
             0.5,
             "#f7f7f7"
            ],
            [
             0.6,
             "#e6f5d0"
            ],
            [
             0.7,
             "#b8e186"
            ],
            [
             0.8,
             "#7fbc41"
            ],
            [
             0.9,
             "#4d9221"
            ],
            [
             1,
             "#276419"
            ]
           ],
           "sequential": [
            [
             0,
             "#0d0887"
            ],
            [
             0.1111111111111111,
             "#46039f"
            ],
            [
             0.2222222222222222,
             "#7201a8"
            ],
            [
             0.3333333333333333,
             "#9c179e"
            ],
            [
             0.4444444444444444,
             "#bd3786"
            ],
            [
             0.5555555555555556,
             "#d8576b"
            ],
            [
             0.6666666666666666,
             "#ed7953"
            ],
            [
             0.7777777777777778,
             "#fb9f3a"
            ],
            [
             0.8888888888888888,
             "#fdca26"
            ],
            [
             1,
             "#f0f921"
            ]
           ],
           "sequentialminus": [
            [
             0,
             "#0d0887"
            ],
            [
             0.1111111111111111,
             "#46039f"
            ],
            [
             0.2222222222222222,
             "#7201a8"
            ],
            [
             0.3333333333333333,
             "#9c179e"
            ],
            [
             0.4444444444444444,
             "#bd3786"
            ],
            [
             0.5555555555555556,
             "#d8576b"
            ],
            [
             0.6666666666666666,
             "#ed7953"
            ],
            [
             0.7777777777777778,
             "#fb9f3a"
            ],
            [
             0.8888888888888888,
             "#fdca26"
            ],
            [
             1,
             "#f0f921"
            ]
           ]
          },
          "colorway": [
           "#636efa",
           "#EF553B",
           "#00cc96",
           "#ab63fa",
           "#FFA15A",
           "#19d3f3",
           "#FF6692",
           "#B6E880",
           "#FF97FF",
           "#FECB52"
          ],
          "font": {
           "color": "#2a3f5f"
          },
          "geo": {
           "bgcolor": "white",
           "lakecolor": "white",
           "landcolor": "#E5ECF6",
           "showlakes": true,
           "showland": true,
           "subunitcolor": "white"
          },
          "hoverlabel": {
           "align": "left"
          },
          "hovermode": "closest",
          "mapbox": {
           "style": "light"
          },
          "paper_bgcolor": "white",
          "plot_bgcolor": "#E5ECF6",
          "polar": {
           "angularaxis": {
            "gridcolor": "white",
            "linecolor": "white",
            "ticks": ""
           },
           "bgcolor": "#E5ECF6",
           "radialaxis": {
            "gridcolor": "white",
            "linecolor": "white",
            "ticks": ""
           }
          },
          "scene": {
           "xaxis": {
            "backgroundcolor": "#E5ECF6",
            "gridcolor": "white",
            "gridwidth": 2,
            "linecolor": "white",
            "showbackground": true,
            "ticks": "",
            "zerolinecolor": "white"
           },
           "yaxis": {
            "backgroundcolor": "#E5ECF6",
            "gridcolor": "white",
            "gridwidth": 2,
            "linecolor": "white",
            "showbackground": true,
            "ticks": "",
            "zerolinecolor": "white"
           },
           "zaxis": {
            "backgroundcolor": "#E5ECF6",
            "gridcolor": "white",
            "gridwidth": 2,
            "linecolor": "white",
            "showbackground": true,
            "ticks": "",
            "zerolinecolor": "white"
           }
          },
          "shapedefaults": {
           "line": {
            "color": "#2a3f5f"
           }
          },
          "ternary": {
           "aaxis": {
            "gridcolor": "white",
            "linecolor": "white",
            "ticks": ""
           },
           "baxis": {
            "gridcolor": "white",
            "linecolor": "white",
            "ticks": ""
           },
           "bgcolor": "#E5ECF6",
           "caxis": {
            "gridcolor": "white",
            "linecolor": "white",
            "ticks": ""
           }
          },
          "title": {
           "x": 0.05
          },
          "xaxis": {
           "automargin": true,
           "gridcolor": "white",
           "linecolor": "white",
           "ticks": "",
           "title": {
            "standoff": 15
           },
           "zerolinecolor": "white",
           "zerolinewidth": 2
          },
          "yaxis": {
           "automargin": true,
           "gridcolor": "white",
           "linecolor": "white",
           "ticks": "",
           "title": {
            "standoff": 15
           },
           "zerolinecolor": "white",
           "zerolinewidth": 2
          }
         }
        }
       }
      },
      "text/html": [
       "<div>\n",
       "        \n",
       "        \n",
       "            <div id=\"4045cb7b-37f5-4b4d-82d6-096ee21952ee\" class=\"plotly-graph-div\" style=\"height:525px; width:100%;\"></div>\n",
       "            <script type=\"text/javascript\">\n",
       "                require([\"plotly\"], function(Plotly) {\n",
       "                    window.PLOTLYENV=window.PLOTLYENV || {};\n",
       "                    \n",
       "                if (document.getElementById(\"4045cb7b-37f5-4b4d-82d6-096ee21952ee\")) {\n",
       "                    Plotly.newPlot(\n",
       "                        '4045cb7b-37f5-4b4d-82d6-096ee21952ee',\n",
       "                        [{\"close\": [3113.8701171875, 3093.199951171875, 3112.760009765625, 3117.429931640625, 3145.909912109375, 3135.9599609375, 3132.52001953125, 3141.6298828125, 3168.570068359375, 3168.800048828125, 3191.449951171875, 3192.52001953125, 3191.139892578125, 3205.3701171875, 3221.219970703125, 3224.010009765625, 3223.3798828125], \"high\": [3144.31005859375, 3094.969970703125, 3119.3798828125, 3119.449951171875, 3150.60009765625, 3148.8701171875, 3142.1201171875, 3143.97998046875, 3176.280029296875, 3182.679931640625, 3197.7099609375, 3198.219970703125, 3198.47998046875, 3205.47998046875, 3225.64990234375, 3227.780029296875, 3226.429931640625], \"low\": [3110.780029296875, 3070.330078125, 3102.530029296875, 3103.760009765625, 3134.6201171875, 3135.4599609375, 3126.090087890625, 3133.2099609375, 3138.469970703125, 3156.510009765625, 3183.6298828125, 3191.030029296875, 3191.139892578125, 3192.320068359375, 3216.030029296875, 3222.300048828125, 3220.510009765625], \"open\": [3143.85009765625, 3087.409912109375, 3103.5, 3119.2099609375, 3134.6201171875, 3141.860107421875, 3135.360107421875, 3135.75, 3141.22998046875, 3166.64990234375, 3183.6298828125, 3195.39990234375, 3195.2099609375, 3192.320068359375, 3223.330078125, 3226.050048828125, 3225.449951171875], \"type\": \"candlestick\", \"x\": [\"2019-12-02T00:00:00\", \"2019-12-03T00:00:00\", \"2019-12-04T00:00:00\", \"2019-12-05T00:00:00\", \"2019-12-06T00:00:00\", \"2019-12-09T00:00:00\", \"2019-12-10T00:00:00\", \"2019-12-11T00:00:00\", \"2019-12-12T00:00:00\", \"2019-12-13T00:00:00\", \"2019-12-16T00:00:00\", \"2019-12-17T00:00:00\", \"2019-12-18T00:00:00\", \"2019-12-19T00:00:00\", \"2019-12-20T00:00:00\", \"2019-12-23T00:00:00\", \"2019-12-24T00:00:00\"]}],\n",
       "                        {\"template\": {\"data\": {\"bar\": [{\"error_x\": {\"color\": \"#2a3f5f\"}, \"error_y\": {\"color\": \"#2a3f5f\"}, \"marker\": {\"line\": {\"color\": \"#E5ECF6\", \"width\": 0.5}}, \"type\": \"bar\"}], \"barpolar\": [{\"marker\": {\"line\": {\"color\": \"#E5ECF6\", \"width\": 0.5}}, \"type\": \"barpolar\"}], \"carpet\": [{\"aaxis\": {\"endlinecolor\": \"#2a3f5f\", \"gridcolor\": \"white\", \"linecolor\": \"white\", \"minorgridcolor\": \"white\", \"startlinecolor\": \"#2a3f5f\"}, \"baxis\": {\"endlinecolor\": \"#2a3f5f\", \"gridcolor\": \"white\", \"linecolor\": \"white\", \"minorgridcolor\": \"white\", \"startlinecolor\": \"#2a3f5f\"}, \"type\": \"carpet\"}], \"choropleth\": [{\"colorbar\": {\"outlinewidth\": 0, \"ticks\": \"\"}, \"type\": \"choropleth\"}], \"contour\": [{\"colorbar\": {\"outlinewidth\": 0, \"ticks\": \"\"}, \"colorscale\": [[0.0, \"#0d0887\"], [0.1111111111111111, \"#46039f\"], [0.2222222222222222, \"#7201a8\"], [0.3333333333333333, \"#9c179e\"], [0.4444444444444444, \"#bd3786\"], [0.5555555555555556, \"#d8576b\"], [0.6666666666666666, \"#ed7953\"], [0.7777777777777778, \"#fb9f3a\"], [0.8888888888888888, \"#fdca26\"], [1.0, \"#f0f921\"]], \"type\": \"contour\"}], \"contourcarpet\": [{\"colorbar\": {\"outlinewidth\": 0, \"ticks\": \"\"}, \"type\": \"contourcarpet\"}], \"heatmap\": [{\"colorbar\": {\"outlinewidth\": 0, \"ticks\": \"\"}, \"colorscale\": [[0.0, \"#0d0887\"], [0.1111111111111111, \"#46039f\"], [0.2222222222222222, \"#7201a8\"], [0.3333333333333333, \"#9c179e\"], [0.4444444444444444, \"#bd3786\"], [0.5555555555555556, \"#d8576b\"], [0.6666666666666666, \"#ed7953\"], [0.7777777777777778, \"#fb9f3a\"], [0.8888888888888888, \"#fdca26\"], [1.0, \"#f0f921\"]], \"type\": \"heatmap\"}], \"heatmapgl\": [{\"colorbar\": {\"outlinewidth\": 0, \"ticks\": \"\"}, \"colorscale\": [[0.0, \"#0d0887\"], [0.1111111111111111, \"#46039f\"], [0.2222222222222222, \"#7201a8\"], [0.3333333333333333, \"#9c179e\"], [0.4444444444444444, \"#bd3786\"], [0.5555555555555556, \"#d8576b\"], [0.6666666666666666, \"#ed7953\"], [0.7777777777777778, \"#fb9f3a\"], [0.8888888888888888, \"#fdca26\"], [1.0, \"#f0f921\"]], \"type\": \"heatmapgl\"}], \"histogram\": [{\"marker\": {\"colorbar\": {\"outlinewidth\": 0, \"ticks\": \"\"}}, \"type\": \"histogram\"}], \"histogram2d\": [{\"colorbar\": {\"outlinewidth\": 0, \"ticks\": \"\"}, \"colorscale\": [[0.0, \"#0d0887\"], [0.1111111111111111, \"#46039f\"], [0.2222222222222222, \"#7201a8\"], [0.3333333333333333, \"#9c179e\"], [0.4444444444444444, \"#bd3786\"], [0.5555555555555556, \"#d8576b\"], [0.6666666666666666, \"#ed7953\"], [0.7777777777777778, \"#fb9f3a\"], [0.8888888888888888, \"#fdca26\"], [1.0, \"#f0f921\"]], \"type\": \"histogram2d\"}], \"histogram2dcontour\": [{\"colorbar\": {\"outlinewidth\": 0, \"ticks\": \"\"}, \"colorscale\": [[0.0, \"#0d0887\"], [0.1111111111111111, \"#46039f\"], [0.2222222222222222, \"#7201a8\"], [0.3333333333333333, \"#9c179e\"], [0.4444444444444444, \"#bd3786\"], [0.5555555555555556, \"#d8576b\"], [0.6666666666666666, \"#ed7953\"], [0.7777777777777778, \"#fb9f3a\"], [0.8888888888888888, \"#fdca26\"], [1.0, \"#f0f921\"]], \"type\": \"histogram2dcontour\"}], \"mesh3d\": [{\"colorbar\": {\"outlinewidth\": 0, \"ticks\": \"\"}, \"type\": \"mesh3d\"}], \"parcoords\": [{\"line\": {\"colorbar\": {\"outlinewidth\": 0, \"ticks\": \"\"}}, \"type\": \"parcoords\"}], \"pie\": [{\"automargin\": true, \"type\": \"pie\"}], \"scatter\": [{\"marker\": {\"colorbar\": {\"outlinewidth\": 0, \"ticks\": \"\"}}, \"type\": \"scatter\"}], \"scatter3d\": [{\"line\": {\"colorbar\": {\"outlinewidth\": 0, \"ticks\": \"\"}}, \"marker\": {\"colorbar\": {\"outlinewidth\": 0, \"ticks\": \"\"}}, \"type\": \"scatter3d\"}], \"scattercarpet\": [{\"marker\": {\"colorbar\": {\"outlinewidth\": 0, \"ticks\": \"\"}}, \"type\": \"scattercarpet\"}], \"scattergeo\": [{\"marker\": {\"colorbar\": {\"outlinewidth\": 0, \"ticks\": \"\"}}, \"type\": \"scattergeo\"}], \"scattergl\": [{\"marker\": {\"colorbar\": {\"outlinewidth\": 0, \"ticks\": \"\"}}, \"type\": \"scattergl\"}], \"scattermapbox\": [{\"marker\": {\"colorbar\": {\"outlinewidth\": 0, \"ticks\": \"\"}}, \"type\": \"scattermapbox\"}], \"scatterpolar\": [{\"marker\": {\"colorbar\": {\"outlinewidth\": 0, \"ticks\": \"\"}}, \"type\": \"scatterpolar\"}], \"scatterpolargl\": [{\"marker\": {\"colorbar\": {\"outlinewidth\": 0, \"ticks\": \"\"}}, \"type\": \"scatterpolargl\"}], \"scatterternary\": [{\"marker\": {\"colorbar\": {\"outlinewidth\": 0, \"ticks\": \"\"}}, \"type\": \"scatterternary\"}], \"surface\": [{\"colorbar\": {\"outlinewidth\": 0, \"ticks\": \"\"}, \"colorscale\": [[0.0, \"#0d0887\"], [0.1111111111111111, \"#46039f\"], [0.2222222222222222, \"#7201a8\"], [0.3333333333333333, \"#9c179e\"], [0.4444444444444444, \"#bd3786\"], [0.5555555555555556, \"#d8576b\"], [0.6666666666666666, \"#ed7953\"], [0.7777777777777778, \"#fb9f3a\"], [0.8888888888888888, \"#fdca26\"], [1.0, \"#f0f921\"]], \"type\": \"surface\"}], \"table\": [{\"cells\": {\"fill\": {\"color\": \"#EBF0F8\"}, \"line\": {\"color\": \"white\"}}, \"header\": {\"fill\": {\"color\": \"#C8D4E3\"}, \"line\": {\"color\": \"white\"}}, \"type\": \"table\"}]}, \"layout\": {\"annotationdefaults\": {\"arrowcolor\": \"#2a3f5f\", \"arrowhead\": 0, \"arrowwidth\": 1}, \"coloraxis\": {\"colorbar\": {\"outlinewidth\": 0, \"ticks\": \"\"}}, \"colorscale\": {\"diverging\": [[0, \"#8e0152\"], [0.1, \"#c51b7d\"], [0.2, \"#de77ae\"], [0.3, \"#f1b6da\"], [0.4, \"#fde0ef\"], [0.5, \"#f7f7f7\"], [0.6, \"#e6f5d0\"], [0.7, \"#b8e186\"], [0.8, \"#7fbc41\"], [0.9, \"#4d9221\"], [1, \"#276419\"]], \"sequential\": [[0.0, \"#0d0887\"], [0.1111111111111111, \"#46039f\"], [0.2222222222222222, \"#7201a8\"], [0.3333333333333333, \"#9c179e\"], [0.4444444444444444, \"#bd3786\"], [0.5555555555555556, \"#d8576b\"], [0.6666666666666666, \"#ed7953\"], [0.7777777777777778, \"#fb9f3a\"], [0.8888888888888888, \"#fdca26\"], [1.0, \"#f0f921\"]], \"sequentialminus\": [[0.0, \"#0d0887\"], [0.1111111111111111, \"#46039f\"], [0.2222222222222222, \"#7201a8\"], [0.3333333333333333, \"#9c179e\"], [0.4444444444444444, \"#bd3786\"], [0.5555555555555556, \"#d8576b\"], [0.6666666666666666, \"#ed7953\"], [0.7777777777777778, \"#fb9f3a\"], [0.8888888888888888, \"#fdca26\"], [1.0, \"#f0f921\"]]}, \"colorway\": [\"#636efa\", \"#EF553B\", \"#00cc96\", \"#ab63fa\", \"#FFA15A\", \"#19d3f3\", \"#FF6692\", \"#B6E880\", \"#FF97FF\", \"#FECB52\"], \"font\": {\"color\": \"#2a3f5f\"}, \"geo\": {\"bgcolor\": \"white\", \"lakecolor\": \"white\", \"landcolor\": \"#E5ECF6\", \"showlakes\": true, \"showland\": true, \"subunitcolor\": \"white\"}, \"hoverlabel\": {\"align\": \"left\"}, \"hovermode\": \"closest\", \"mapbox\": {\"style\": \"light\"}, \"paper_bgcolor\": \"white\", \"plot_bgcolor\": \"#E5ECF6\", \"polar\": {\"angularaxis\": {\"gridcolor\": \"white\", \"linecolor\": \"white\", \"ticks\": \"\"}, \"bgcolor\": \"#E5ECF6\", \"radialaxis\": {\"gridcolor\": \"white\", \"linecolor\": \"white\", \"ticks\": \"\"}}, \"scene\": {\"xaxis\": {\"backgroundcolor\": \"#E5ECF6\", \"gridcolor\": \"white\", \"gridwidth\": 2, \"linecolor\": \"white\", \"showbackground\": true, \"ticks\": \"\", \"zerolinecolor\": \"white\"}, \"yaxis\": {\"backgroundcolor\": \"#E5ECF6\", \"gridcolor\": \"white\", \"gridwidth\": 2, \"linecolor\": \"white\", \"showbackground\": true, \"ticks\": \"\", \"zerolinecolor\": \"white\"}, \"zaxis\": {\"backgroundcolor\": \"#E5ECF6\", \"gridcolor\": \"white\", \"gridwidth\": 2, \"linecolor\": \"white\", \"showbackground\": true, \"ticks\": \"\", \"zerolinecolor\": \"white\"}}, \"shapedefaults\": {\"line\": {\"color\": \"#2a3f5f\"}}, \"ternary\": {\"aaxis\": {\"gridcolor\": \"white\", \"linecolor\": \"white\", \"ticks\": \"\"}, \"baxis\": {\"gridcolor\": \"white\", \"linecolor\": \"white\", \"ticks\": \"\"}, \"bgcolor\": \"#E5ECF6\", \"caxis\": {\"gridcolor\": \"white\", \"linecolor\": \"white\", \"ticks\": \"\"}}, \"title\": {\"x\": 0.05}, \"xaxis\": {\"automargin\": true, \"gridcolor\": \"white\", \"linecolor\": \"white\", \"ticks\": \"\", \"title\": {\"standoff\": 15}, \"zerolinecolor\": \"white\", \"zerolinewidth\": 2}, \"yaxis\": {\"automargin\": true, \"gridcolor\": \"white\", \"linecolor\": \"white\", \"ticks\": \"\", \"title\": {\"standoff\": 15}, \"zerolinecolor\": \"white\", \"zerolinewidth\": 2}}}},\n",
       "                        {\"responsive\": true}\n",
       "                    ).then(function(){\n",
       "                            \n",
       "var gd = document.getElementById('4045cb7b-37f5-4b4d-82d6-096ee21952ee');\n",
       "var x = new MutationObserver(function (mutations, observer) {{\n",
       "        var display = window.getComputedStyle(gd).display;\n",
       "        if (!display || display === 'none') {{\n",
       "            console.log([gd, 'removed!']);\n",
       "            Plotly.purge(gd);\n",
       "            observer.disconnect();\n",
       "        }}\n",
       "}});\n",
       "\n",
       "// Listen for the removal of the full notebook cells\n",
       "var notebookContainer = gd.closest('#notebook-container');\n",
       "if (notebookContainer) {{\n",
       "    x.observe(notebookContainer, {childList: true});\n",
       "}}\n",
       "\n",
       "// Listen for the clearing of the current output cell\n",
       "var outputEl = gd.closest('.output');\n",
       "if (outputEl) {{\n",
       "    x.observe(outputEl, {childList: true});\n",
       "}}\n",
       "\n",
       "                        })\n",
       "                };\n",
       "                });\n",
       "            </script>\n",
       "        </div>"
      ]
     },
     "metadata": {},
     "output_type": "display_data"
    }
   ],
   "source": [
    "trace = go.Candlestick(x=SP['12-2019'].index,\n",
    "                open=SP['12-2019'].Open,\n",
    "                high=SP['12-2019'].High,\n",
    "                low=SP['12-2019'].Low,\n",
    "                close=SP['12-2019'].Close)\n",
    "data = [trace]\n",
    "iplot(data, filename='simple_candlestick')"
   ]
  },
  {
   "cell_type": "markdown",
   "metadata": {},
   "source": [
    "Autocorrelation:"
   ]
  },
  {
   "cell_type": "code",
   "execution_count": null,
   "metadata": {},
   "outputs": [],
   "source": [
    "plot_acf(SP[\"Close\"],lags=5000,title=\"Close prices Autocorrelations\")\n",
    "plt.show()"
   ]
  },
  {
   "cell_type": "markdown",
   "metadata": {},
   "source": [
    "This estimated autocorrelation function proves the non-stationarity of our S&P 500."
   ]
  },
  {
   "cell_type": "markdown",
   "metadata": {},
   "source": [
    "Partial autocorrelation"
   ]
  },
  {
   "cell_type": "code",
   "execution_count": 93,
   "metadata": {},
   "outputs": [
    {
     "data": {
      "image/png": "[encoded data removed]",
      "text/plain": [
       "<matplotlib.figure.Figure at 0x1a2a23ab630>"
      ]
     },
     "metadata": {},
     "output_type": "display_data"
    }
   ],
   "source": [
    "plot_pacf(SP[\"Open\"],lags=20)\n",
    "plt.show()"
   ]
  },
  {
   "cell_type": "markdown",
   "metadata": {},
   "source": [
    "Trends, seasonality and noise"
   ]
  },
  {
   "cell_type": "code",
   "execution_count": null,
   "metadata": {},
   "outputs": [],
   "source": []
  },
  {
   "cell_type": "code",
   "execution_count": 95,
   "metadata": {},
   "outputs": [
    {
     "data": {
      "image/png": "[encoded data removed]",
      "text/plain": [
       "<matplotlib.figure.Figure at 0x1a2a7a72080>"
      ]
     },
     "metadata": {},
     "output_type": "display_data"
    }
   ],
   "source": [
    "SP[\"High\"].plot(figsize=(16,8))\n",
    "plt.show()\n"
   ]
  },
  {
   "cell_type": "markdown",
   "metadata": {},
   "source": [
    "Seasonal decomposition using moving averages.\n",
    "\n"
   ]
  },
  {
   "cell_type": "code",
   "execution_count": 45,
   "metadata": {},
   "outputs": [
    {
     "data": {
      "image/png": "[encoded data removed]",
      "text/plain": [
       "<matplotlib.figure.Figure at 0x1bf4de1ee80>"
      ]
     },
     "metadata": {},
     "output_type": "display_data"
    }
   ],
   "source": [
    "rcParams['figure.figsize'] = 11, 9\n",
    "decomposed_SP_volume = sm.tsa.seasonal_decompose(SP[\"Open\"][\"2000\":\"2019\"],freq=360) # The frequncy is annual\n",
    "figure = decomposed_SP_volume.plot()\n",
    "plt.savefig(\"decomosition serie open\")\n",
    "plt.show()"
   ]
  },
  {
   "cell_type": "code",
   "execution_count": null,
   "metadata": {},
   "outputs": [],
   "source": []
  }
 ],
 "metadata": {
  "kernelspec": {
   "display_name": "Python 3",
   "language": "python",
   "name": "python3"
  },
  "language_info": {
   "codemirror_mode": {
    "name": "ipython",
    "version": 3
   },
   "file_extension": ".py",
   "mimetype": "text/x-python",
   "name": "python",
   "nbconvert_exporter": "python",
   "pygments_lexer": "ipython3",
   "version": "3.6.4"
  }
 },
 "nbformat": 4,
 "nbformat_minor": 2
}
